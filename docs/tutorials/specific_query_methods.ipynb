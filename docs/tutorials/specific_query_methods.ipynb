{
 "cells": [
  {
   "cell_type": "markdown",
   "metadata": {},
   "source": [
    "# Specific query methods"
   ]
  },
  {
   "cell_type": "markdown",
   "metadata": {},
   "source": [
    "#### Sections\n",
    "* [`session_prices`](#session_prices)\n",
    "* [`close_at`](#close_at)\n",
    "* [`price_at`](#price_at)\n",
    "* [`price_range`](#price_range)"
   ]
  },
  {
   "cell_type": "markdown",
   "metadata": {},
   "source": [
    "#### Note\n",
    "\n",
    "The cell **outputs** shown in this tutorial are based on executing the cells at the time shown in the output of the following cell. Simply rerun the cells to bring any dynamic output up to date."
   ]
  },
  {
   "cell_type": "code",
   "execution_count": 2,
   "metadata": {},
   "outputs": [
    {
     "name": "stdout",
     "output_type": "stream",
     "text": [
      "Timestamp('2022-05-13 13:26:00+0000', tz='UTC')\n",
      "Timestamp('2022-05-13 09:26:00-0400', tz='America/New_York')\n"
     ]
    }
   ],
   "source": [
    "import pandas as pd\n",
    "from zoneinfo import ZoneInfo\n",
    "now = pd.Timestamp.now(tz=ZoneInfo(\"UTC\")).floor(\"T\")\n",
    "print(f\"{now!r}\")\n",
    "print(f\"{now.astimezone(ZoneInfo('America/New_York'))!r}\")"
   ]
  },
  {
   "cell_type": "markdown",
   "metadata": {},
   "source": [
    "## Setup"
   ]
  },
  {
   "cell_type": "markdown",
   "metadata": {},
   "source": [
    "Run the following cell to import tutorial dependencies."
   ]
  },
  {
   "cell_type": "code",
   "execution_count": 3,
   "metadata": {},
   "outputs": [],
   "source": [
    "import pandas as pd\n",
    "from market_prices import PricesYahoo\n",
    "from market_prices.support import tutorial_helpers as th"
   ]
  },
  {
   "cell_type": "markdown",
   "metadata": {},
   "source": [
    "Run the following cell to define values used in this tutorial."
   ]
  },
  {
   "cell_type": "code",
   "execution_count": 4,
   "metadata": {},
   "outputs": [],
   "source": [
    "_prices_mix = PricesYahoo(\"MSFT, 9988.HK, AZN.L\")\n",
    "xnys = _prices_mix.calendars[\"MSFT\"]\n",
    "xhkg = _prices_mix.calendars[\"9988.HK\"]\n",
    "xlon = _prices_mix.calendars[\"AZN.L\"]\n",
    "_calendars = [xnys, xhkg, xlon]\n",
    "_session_length = [\n",
    "    pd.Timedelta(hours=6, minutes=30),\n",
    "    pd.Timedelta(hours=6, minutes=30),\n",
    "    pd.Timedelta(hours=8, minutes=30),\n",
    "]\n",
    "# get session for which price data available at all base intervals\n",
    "_sessions_range = th.get_sessions_range_for_bi(\n",
    "    _prices_mix, _prices_mix.bis.T1\n",
    ")\n",
    "session = th.get_conforming_sessions(\n",
    "    _calendars, _session_length, *_sessions_range, 1\n",
    ")[0]\n",
    "\n",
    "# get session for which intraday price data not available < T5\n",
    "_sessions_range = th.get_sessions_range_for_bi(\n",
    "    _prices_mix, _prices_mix.bis.T5\n",
    ")\n",
    "sessionT5 = th.get_conforming_sessions(\n",
    "    _calendars, _session_length, *_sessions_range, 2\n",
    ")[-1]"
   ]
  },
  {
   "cell_type": "markdown",
   "metadata": {},
   "source": [
    "## Specific query methods\n",
    "\n",
    "The Prices class offers some methods to query prices for a specific session, time or period. They all return a single-row `DataFrame`.\n",
    "\n",
    "Execute the following cell to define a Prices instance that will be used to demonstrate these methods. The symbols correspond with the following equities:\n",
    "* Microsoft, New York Stock Exchange listing.\n",
    "* AstraZeneca, London Stock Exchange listing.\n",
    "* Alibaba, Hong Kong Stock Exchange listing.\n",
    "\n",
    "Note that the `lead_symbol` is AstraZeneca."
   ]
  },
  {
   "cell_type": "code",
   "execution_count": 5,
   "metadata": {},
   "outputs": [],
   "source": [
    "prices = PricesYahoo(\"MSFT, AZN.L, 9988.HK\", lead_symbol=\"AZN.L\")"
   ]
  },
  {
   "cell_type": "markdown",
   "metadata": {},
   "source": [
    "## `session_prices`\n",
    "`session_prices` is the quickest way to get prices for a specific session. \n",
    "\n",
    "The method can take a single argument that represents an actual session for at least one of the symbols. The argument can take a `Timestamp` or any other type that can be passed as a single argument to `Timestamp`."
   ]
  },
  {
   "cell_type": "code",
   "execution_count": 6,
   "metadata": {},
   "outputs": [
    {
     "data": {
      "text/html": [
       "<div>\n",
       "<style scoped>\n",
       "    .dataframe tbody tr th:only-of-type {\n",
       "        vertical-align: middle;\n",
       "    }\n",
       "\n",
       "    .dataframe tbody tr th {\n",
       "        vertical-align: top;\n",
       "    }\n",
       "\n",
       "    .dataframe thead tr th {\n",
       "        text-align: left;\n",
       "    }\n",
       "</style>\n",
       "<table border=\"1\" class=\"dataframe\">\n",
       "  <thead>\n",
       "    <tr>\n",
       "      <th>symbol</th>\n",
       "      <th colspan=\"5\" halign=\"left\">MSFT</th>\n",
       "      <th colspan=\"5\" halign=\"left\">AZN.L</th>\n",
       "      <th colspan=\"5\" halign=\"left\">9988.HK</th>\n",
       "    </tr>\n",
       "    <tr>\n",
       "      <th></th>\n",
       "      <th>open</th>\n",
       "      <th>high</th>\n",
       "      <th>low</th>\n",
       "      <th>close</th>\n",
       "      <th>volume</th>\n",
       "      <th>open</th>\n",
       "      <th>high</th>\n",
       "      <th>low</th>\n",
       "      <th>close</th>\n",
       "      <th>volume</th>\n",
       "      <th>open</th>\n",
       "      <th>high</th>\n",
       "      <th>low</th>\n",
       "      <th>close</th>\n",
       "      <th>volume</th>\n",
       "    </tr>\n",
       "  </thead>\n",
       "  <tbody>\n",
       "    <tr>\n",
       "      <th>2022-04-26</th>\n",
       "      <td>277.5</td>\n",
       "      <td>278.359985</td>\n",
       "      <td>270.0</td>\n",
       "      <td>270.220001</td>\n",
       "      <td>46518400</td>\n",
       "      <td>10338.0</td>\n",
       "      <td>10436.0</td>\n",
       "      <td>10218.0</td>\n",
       "      <td>10332.0</td>\n",
       "      <td>3205465</td>\n",
       "      <td>84.5</td>\n",
       "      <td>87.900002</td>\n",
       "      <td>83.75</td>\n",
       "      <td>84.900002</td>\n",
       "      <td>38304821</td>\n",
       "    </tr>\n",
       "  </tbody>\n",
       "</table>\n",
       "</div>"
      ],
      "text/plain": [
       "symbol       MSFT                                             AZN.L           \\\n",
       "             open        high    low       close    volume     open     high   \n",
       "2022-04-26  277.5  278.359985  270.0  270.220001  46518400  10338.0  10436.0   \n",
       "\n",
       "symbol                                9988.HK                               \\\n",
       "                low    close   volume    open       high    low      close   \n",
       "2022-04-26  10218.0  10332.0  3205465    84.5  87.900002  83.75  84.900002   \n",
       "\n",
       "symbol                \n",
       "              volume  \n",
       "2022-04-26  38304821  "
      ]
     },
     "execution_count": 6,
     "metadata": {},
     "output_type": "execute_result"
    }
   ],
   "source": [
    "prices.session_prices(\"2022-04-26\")"
   ]
  },
  {
   "cell_type": "markdown",
   "metadata": {},
   "source": [
    "A `ValueError` will be raised if the passed value does not represent a session for any of the symbols."
   ]
  },
  {
   "cell_type": "code",
   "execution_count": null,
   "metadata": {},
   "outputs": [],
   "source": [
    "prices.session_prices(\"2022-04-24\")  # a sunday"
   ]
  },
  {
   "cell_type": "markdown",
   "metadata": {},
   "source": [
    "```\n",
    "---------------------------------------------------------------------------\n",
    "ValueError                                Traceback (most recent call last)\n",
    "<ipython-input-12-cddffb6db884> in <module>\n",
    "----> 1 prices.session_prices(\"2022-04-24\")  # a sunday\n",
    "\n",
    "ValueError: 2022-04-24 00:00:00 is not a session of any associated calendar.\n",
    "```"
   ]
  },
  {
   "cell_type": "markdown",
   "metadata": {},
   "source": [
    "`session_prices` can be called without an argument to return prices for the most recent session of any symbol."
   ]
  },
  {
   "cell_type": "code",
   "execution_count": 8,
   "metadata": {},
   "outputs": [
    {
     "data": {
      "text/html": [
       "<div>\n",
       "<style scoped>\n",
       "    .dataframe tbody tr th:only-of-type {\n",
       "        vertical-align: middle;\n",
       "    }\n",
       "\n",
       "    .dataframe tbody tr th {\n",
       "        vertical-align: top;\n",
       "    }\n",
       "\n",
       "    .dataframe thead tr th {\n",
       "        text-align: left;\n",
       "    }\n",
       "</style>\n",
       "<table border=\"1\" class=\"dataframe\">\n",
       "  <thead>\n",
       "    <tr>\n",
       "      <th>symbol</th>\n",
       "      <th colspan=\"5\" halign=\"left\">MSFT</th>\n",
       "      <th colspan=\"5\" halign=\"left\">AZN.L</th>\n",
       "      <th colspan=\"5\" halign=\"left\">9988.HK</th>\n",
       "    </tr>\n",
       "    <tr>\n",
       "      <th></th>\n",
       "      <th>open</th>\n",
       "      <th>high</th>\n",
       "      <th>low</th>\n",
       "      <th>close</th>\n",
       "      <th>volume</th>\n",
       "      <th>open</th>\n",
       "      <th>high</th>\n",
       "      <th>low</th>\n",
       "      <th>close</th>\n",
       "      <th>volume</th>\n",
       "      <th>open</th>\n",
       "      <th>high</th>\n",
       "      <th>low</th>\n",
       "      <th>close</th>\n",
       "      <th>volume</th>\n",
       "    </tr>\n",
       "  </thead>\n",
       "  <tbody>\n",
       "    <tr>\n",
       "      <th>2022-05-13</th>\n",
       "      <td>NaN</td>\n",
       "      <td>NaN</td>\n",
       "      <td>NaN</td>\n",
       "      <td>NaN</td>\n",
       "      <td>NaN</td>\n",
       "      <td>10054.0</td>\n",
       "      <td>10300.0</td>\n",
       "      <td>9996.0</td>\n",
       "      <td>10250.0</td>\n",
       "      <td>682594</td>\n",
       "      <td>82.199997</td>\n",
       "      <td>82.849998</td>\n",
       "      <td>81.25</td>\n",
       "      <td>82.199997</td>\n",
       "      <td>53688518</td>\n",
       "    </tr>\n",
       "  </tbody>\n",
       "</table>\n",
       "</div>"
      ],
      "text/plain": [
       "symbol     MSFT                          AZN.L                            \\\n",
       "           open high low close volume     open     high     low    close   \n",
       "2022-05-13  NaN  NaN NaN   NaN    NaN  10054.0  10300.0  9996.0  10250.0   \n",
       "\n",
       "symbol                9988.HK                                         \n",
       "            volume       open       high    low      close    volume  \n",
       "2022-05-13  682594  82.199997  82.849998  81.25  82.199997  53688518  "
      ]
     },
     "execution_count": 8,
     "metadata": {},
     "output_type": "execute_result"
    }
   ],
   "source": [
    "prices.session_prices()"
   ]
  },
  {
   "cell_type": "markdown",
   "metadata": {},
   "source": [
    "Pass `stack` as `True` to stack the symbols to separate rows."
   ]
  },
  {
   "cell_type": "code",
   "execution_count": 9,
   "metadata": {},
   "outputs": [
    {
     "data": {
      "text/html": [
       "<div>\n",
       "<style scoped>\n",
       "    .dataframe tbody tr th:only-of-type {\n",
       "        vertical-align: middle;\n",
       "    }\n",
       "\n",
       "    .dataframe tbody tr th {\n",
       "        vertical-align: top;\n",
       "    }\n",
       "\n",
       "    .dataframe thead th {\n",
       "        text-align: right;\n",
       "    }\n",
       "</style>\n",
       "<table border=\"1\" class=\"dataframe\">\n",
       "  <thead>\n",
       "    <tr style=\"text-align: right;\">\n",
       "      <th></th>\n",
       "      <th></th>\n",
       "      <th>open</th>\n",
       "      <th>high</th>\n",
       "      <th>low</th>\n",
       "      <th>close</th>\n",
       "      <th>volume</th>\n",
       "    </tr>\n",
       "    <tr>\n",
       "      <th></th>\n",
       "      <th>symbol</th>\n",
       "      <th></th>\n",
       "      <th></th>\n",
       "      <th></th>\n",
       "      <th></th>\n",
       "      <th></th>\n",
       "    </tr>\n",
       "  </thead>\n",
       "  <tbody>\n",
       "    <tr>\n",
       "      <th rowspan=\"3\" valign=\"top\">2022-05-13</th>\n",
       "      <th>9988.HK</th>\n",
       "      <td>82.199997</td>\n",
       "      <td>82.849998</td>\n",
       "      <td>81.25</td>\n",
       "      <td>82.199997</td>\n",
       "      <td>53688518.0</td>\n",
       "    </tr>\n",
       "    <tr>\n",
       "      <th>AZN.L</th>\n",
       "      <td>10054.000000</td>\n",
       "      <td>10300.000000</td>\n",
       "      <td>9996.00</td>\n",
       "      <td>10250.000000</td>\n",
       "      <td>682594.0</td>\n",
       "    </tr>\n",
       "    <tr>\n",
       "      <th>MSFT</th>\n",
       "      <td>NaN</td>\n",
       "      <td>NaN</td>\n",
       "      <td>NaN</td>\n",
       "      <td>NaN</td>\n",
       "      <td>NaN</td>\n",
       "    </tr>\n",
       "  </tbody>\n",
       "</table>\n",
       "</div>"
      ],
      "text/plain": [
       "                            open          high      low         close  \\\n",
       "           symbol                                                       \n",
       "2022-05-13 9988.HK     82.199997     82.849998    81.25     82.199997   \n",
       "           AZN.L    10054.000000  10300.000000  9996.00  10250.000000   \n",
       "           MSFT              NaN           NaN      NaN           NaN   \n",
       "\n",
       "                        volume  \n",
       "           symbol               \n",
       "2022-05-13 9988.HK  53688518.0  \n",
       "           AZN.L      682594.0  \n",
       "           MSFT            NaN  "
      ]
     },
     "execution_count": 9,
     "metadata": {},
     "output_type": "execute_result"
    }
   ],
   "source": [
    "prices.session_prices(stack=True)"
   ]
  },
  {
   "cell_type": "markdown",
   "metadata": {},
   "source": [
    "## `close_at`\n",
    "\n",
    "`close_at` returns the prices as at the end of specific 'day'. Like `session_prices` it takes a single argument although differs in that the passed date can be a date when one, some or none of the associated calendars were open. If a symbol does not trade on the queried date then the price will be as at its prior close. This can be seen by considering the following price table against the subsequent call to `close_at`."
   ]
  },
  {
   "cell_type": "code",
   "execution_count": 10,
   "metadata": {},
   "outputs": [
    {
     "data": {
      "text/html": [
       "<div>\n",
       "<style scoped>\n",
       "    .dataframe tbody tr th:only-of-type {\n",
       "        vertical-align: middle;\n",
       "    }\n",
       "\n",
       "    .dataframe tbody tr th {\n",
       "        vertical-align: top;\n",
       "    }\n",
       "\n",
       "    .dataframe thead th {\n",
       "        text-align: right;\n",
       "    }\n",
       "</style>\n",
       "<table border=\"1\" class=\"dataframe\">\n",
       "  <thead>\n",
       "    <tr style=\"text-align: right;\">\n",
       "      <th>symbol</th>\n",
       "      <th>MSFT</th>\n",
       "      <th>AZN.L</th>\n",
       "      <th>9988.HK</th>\n",
       "    </tr>\n",
       "  </thead>\n",
       "  <tbody>\n",
       "    <tr>\n",
       "      <th>2021-12-23</th>\n",
       "      <td>334.690002</td>\n",
       "      <td>8596.0</td>\n",
       "      <td>113.300003</td>\n",
       "    </tr>\n",
       "    <tr>\n",
       "      <th>2021-12-24</th>\n",
       "      <td>NaN</td>\n",
       "      <td>8611.0</td>\n",
       "      <td>113.000000</td>\n",
       "    </tr>\n",
       "    <tr>\n",
       "      <th>2021-12-27</th>\n",
       "      <td>342.450012</td>\n",
       "      <td>NaN</td>\n",
       "      <td>NaN</td>\n",
       "    </tr>\n",
       "    <tr>\n",
       "      <th>2021-12-28</th>\n",
       "      <td>341.250000</td>\n",
       "      <td>NaN</td>\n",
       "      <td>113.500000</td>\n",
       "    </tr>\n",
       "    <tr>\n",
       "      <th>2021-12-29</th>\n",
       "      <td>341.950012</td>\n",
       "      <td>8656.0</td>\n",
       "      <td>110.599998</td>\n",
       "    </tr>\n",
       "  </tbody>\n",
       "</table>\n",
       "</div>"
      ],
      "text/plain": [
       "symbol            MSFT   AZN.L     9988.HK\n",
       "2021-12-23  334.690002  8596.0  113.300003\n",
       "2021-12-24         NaN  8611.0  113.000000\n",
       "2021-12-27  342.450012     NaN         NaN\n",
       "2021-12-28  341.250000     NaN  113.500000\n",
       "2021-12-29  341.950012  8656.0  110.599998"
      ]
     },
     "execution_count": 10,
     "metadata": {},
     "output_type": "execute_result"
    }
   ],
   "source": [
    "prices.get(\"1D\", \"2021-12-23\", \"2021-12-29\", close_only=True)"
   ]
  },
  {
   "cell_type": "code",
   "execution_count": 11,
   "metadata": {},
   "outputs": [
    {
     "data": {
      "text/html": [
       "<div>\n",
       "<style scoped>\n",
       "    .dataframe tbody tr th:only-of-type {\n",
       "        vertical-align: middle;\n",
       "    }\n",
       "\n",
       "    .dataframe tbody tr th {\n",
       "        vertical-align: top;\n",
       "    }\n",
       "\n",
       "    .dataframe thead th {\n",
       "        text-align: right;\n",
       "    }\n",
       "</style>\n",
       "<table border=\"1\" class=\"dataframe\">\n",
       "  <thead>\n",
       "    <tr style=\"text-align: right;\">\n",
       "      <th>symbol</th>\n",
       "      <th>MSFT</th>\n",
       "      <th>AZN.L</th>\n",
       "      <th>9988.HK</th>\n",
       "    </tr>\n",
       "  </thead>\n",
       "  <tbody>\n",
       "    <tr>\n",
       "      <th>2021-12-28</th>\n",
       "      <td>341.25</td>\n",
       "      <td>8611.0</td>\n",
       "      <td>113.5</td>\n",
       "    </tr>\n",
       "  </tbody>\n",
       "</table>\n",
       "</div>"
      ],
      "text/plain": [
       "symbol        MSFT   AZN.L  9988.HK\n",
       "2021-12-28  341.25  8611.0    113.5"
      ]
     },
     "execution_count": 11,
     "metadata": {},
     "output_type": "execute_result"
    }
   ],
   "source": [
    "prices.close_at(\"2021-12-28\")"
   ]
  },
  {
   "cell_type": "markdown",
   "metadata": {},
   "source": [
    "The price for AZN.L can be seen to have been carried forward from the close on the 24th.\n",
    "\n",
    "The method can also be called with no argument, in which the price for each symbol will reflect:\n",
    "* the most recent close if the symbol's exchange is currently closed.\n",
    "* the most recent price if the symbol's exchange is currently open."
   ]
  },
  {
   "cell_type": "code",
   "execution_count": 12,
   "metadata": {},
   "outputs": [
    {
     "data": {
      "text/html": [
       "<div>\n",
       "<style scoped>\n",
       "    .dataframe tbody tr th:only-of-type {\n",
       "        vertical-align: middle;\n",
       "    }\n",
       "\n",
       "    .dataframe tbody tr th {\n",
       "        vertical-align: top;\n",
       "    }\n",
       "\n",
       "    .dataframe thead th {\n",
       "        text-align: right;\n",
       "    }\n",
       "</style>\n",
       "<table border=\"1\" class=\"dataframe\">\n",
       "  <thead>\n",
       "    <tr style=\"text-align: right;\">\n",
       "      <th>symbol</th>\n",
       "      <th>MSFT</th>\n",
       "      <th>AZN.L</th>\n",
       "      <th>9988.HK</th>\n",
       "    </tr>\n",
       "  </thead>\n",
       "  <tbody>\n",
       "    <tr>\n",
       "      <th>2022-05-13</th>\n",
       "      <td>255.350006</td>\n",
       "      <td>10250.0</td>\n",
       "      <td>82.199997</td>\n",
       "    </tr>\n",
       "  </tbody>\n",
       "</table>\n",
       "</div>"
      ],
      "text/plain": [
       "symbol            MSFT    AZN.L    9988.HK\n",
       "2022-05-13  255.350006  10250.0  82.199997"
      ]
     },
     "execution_count": 12,
     "metadata": {},
     "output_type": "execute_result"
    }
   ],
   "source": [
    "prices.close_at()"
   ]
  },
  {
   "cell_type": "markdown",
   "metadata": {},
   "source": [
    "## `price_at`\n",
    "\n",
    "`price_at` returns the most recent prices available as at a specific minute.\n",
    "\n",
    "When no arguments are passed the method returns the most recent prices as of 'now'."
   ]
  },
  {
   "cell_type": "code",
   "execution_count": 13,
   "metadata": {},
   "outputs": [
    {
     "data": {
      "text/html": [
       "<div>\n",
       "<style scoped>\n",
       "    .dataframe tbody tr th:only-of-type {\n",
       "        vertical-align: middle;\n",
       "    }\n",
       "\n",
       "    .dataframe tbody tr th {\n",
       "        vertical-align: top;\n",
       "    }\n",
       "\n",
       "    .dataframe thead th {\n",
       "        text-align: right;\n",
       "    }\n",
       "</style>\n",
       "<table border=\"1\" class=\"dataframe\">\n",
       "  <thead>\n",
       "    <tr style=\"text-align: right;\">\n",
       "      <th>symbol</th>\n",
       "      <th>MSFT</th>\n",
       "      <th>AZN.L</th>\n",
       "      <th>9988.HK</th>\n",
       "    </tr>\n",
       "  </thead>\n",
       "  <tbody>\n",
       "    <tr>\n",
       "      <th>2022-05-13 14:26:00+01:00</th>\n",
       "      <td>255.350006</td>\n",
       "      <td>10250.0</td>\n",
       "      <td>82.199997</td>\n",
       "    </tr>\n",
       "  </tbody>\n",
       "</table>\n",
       "</div>"
      ],
      "text/plain": [
       "symbol                           MSFT    AZN.L    9988.HK\n",
       "2022-05-13 14:26:00+01:00  255.350006  10250.0  82.199997"
      ]
     },
     "execution_count": 13,
     "metadata": {},
     "output_type": "execute_result"
    }
   ],
   "source": [
    "prices.price_at()"
   ]
  },
  {
   "cell_type": "markdown",
   "metadata": {},
   "source": [
    "Alternatively a specific minute can be specified."
   ]
  },
  {
   "cell_type": "code",
   "execution_count": 14,
   "metadata": {},
   "outputs": [
    {
     "name": "stdout",
     "output_type": "stream",
     "text": [
      "minute_=Timestamp('2022-04-14 15:43:00+0100', tz='Europe/London')\n",
      "\n"
     ]
    },
    {
     "data": {
      "text/html": [
       "<div>\n",
       "<style scoped>\n",
       "    .dataframe tbody tr th:only-of-type {\n",
       "        vertical-align: middle;\n",
       "    }\n",
       "\n",
       "    .dataframe tbody tr th {\n",
       "        vertical-align: top;\n",
       "    }\n",
       "\n",
       "    .dataframe thead th {\n",
       "        text-align: right;\n",
       "    }\n",
       "</style>\n",
       "<table border=\"1\" class=\"dataframe\">\n",
       "  <thead>\n",
       "    <tr style=\"text-align: right;\">\n",
       "      <th>symbol</th>\n",
       "      <th>MSFT</th>\n",
       "      <th>AZN.L</th>\n",
       "      <th>9988.HK</th>\n",
       "    </tr>\n",
       "  </thead>\n",
       "  <tbody>\n",
       "    <tr>\n",
       "      <th>2022-04-14 15:43:00+01:00</th>\n",
       "      <td>283.570007</td>\n",
       "      <td>10526.0</td>\n",
       "      <td>95.5</td>\n",
       "    </tr>\n",
       "  </tbody>\n",
       "</table>\n",
       "</div>"
      ],
      "text/plain": [
       "symbol                           MSFT    AZN.L  9988.HK\n",
       "2022-04-14 15:43:00+01:00  283.570007  10526.0     95.5"
      ]
     },
     "execution_count": 14,
     "metadata": {},
     "output_type": "execute_result"
    }
   ],
   "source": [
    "minute = xlon.session_close(session) - pd.Timedelta(47, \"T\")\n",
    "minute_ = minute.astimezone(prices.tz_default)\n",
    "print(f\"{minute_=}\\n\")  # for reference\n",
    "\n",
    "prices.price_at(minute)"
   ]
  },
  {
   "cell_type": "markdown",
   "metadata": {},
   "source": [
    "If a symbol is not open at the minute, the price will reflect its most recent close price. At the passed minute in the above example only the London and New York markets were open. The price for Alibaba is therefore its close price from earlier in the day. **Although not all symbols may be open at the minute, a symbol's price will always reflect the most recently _available_ 'price at' that time**.\n",
    "\n",
    "By default the indice has the same timezone as the Price instance's default timezone, in this case London. The `tz` parameter can be passed to override the default timezone. It can take the same types as the `get` method's 'tzout' parameter and works in the same way."
   ]
  },
  {
   "cell_type": "code",
   "execution_count": 15,
   "metadata": {},
   "outputs": [
    {
     "data": {
      "text/html": [
       "<div>\n",
       "<style scoped>\n",
       "    .dataframe tbody tr th:only-of-type {\n",
       "        vertical-align: middle;\n",
       "    }\n",
       "\n",
       "    .dataframe tbody tr th {\n",
       "        vertical-align: top;\n",
       "    }\n",
       "\n",
       "    .dataframe thead th {\n",
       "        text-align: right;\n",
       "    }\n",
       "</style>\n",
       "<table border=\"1\" class=\"dataframe\">\n",
       "  <thead>\n",
       "    <tr style=\"text-align: right;\">\n",
       "      <th>symbol</th>\n",
       "      <th>MSFT</th>\n",
       "      <th>AZN.L</th>\n",
       "      <th>9988.HK</th>\n",
       "    </tr>\n",
       "  </thead>\n",
       "  <tbody>\n",
       "    <tr>\n",
       "      <th>2022-04-14 10:43:00-04:00</th>\n",
       "      <td>283.570007</td>\n",
       "      <td>10526.0</td>\n",
       "      <td>95.5</td>\n",
       "    </tr>\n",
       "  </tbody>\n",
       "</table>\n",
       "</div>"
      ],
      "text/plain": [
       "symbol                           MSFT    AZN.L  9988.HK\n",
       "2022-04-14 10:43:00-04:00  283.570007  10526.0     95.5"
      ]
     },
     "execution_count": 15,
     "metadata": {},
     "output_type": "execute_result"
    }
   ],
   "source": [
    "prices.price_at(minute, tz=\"America/New_York\")"
   ]
  },
  {
   "cell_type": "code",
   "execution_count": 16,
   "metadata": {},
   "outputs": [
    {
     "data": {
      "text/html": [
       "<div>\n",
       "<style scoped>\n",
       "    .dataframe tbody tr th:only-of-type {\n",
       "        vertical-align: middle;\n",
       "    }\n",
       "\n",
       "    .dataframe tbody tr th {\n",
       "        vertical-align: top;\n",
       "    }\n",
       "\n",
       "    .dataframe thead th {\n",
       "        text-align: right;\n",
       "    }\n",
       "</style>\n",
       "<table border=\"1\" class=\"dataframe\">\n",
       "  <thead>\n",
       "    <tr style=\"text-align: right;\">\n",
       "      <th>symbol</th>\n",
       "      <th>MSFT</th>\n",
       "      <th>AZN.L</th>\n",
       "      <th>9988.HK</th>\n",
       "    </tr>\n",
       "  </thead>\n",
       "  <tbody>\n",
       "    <tr>\n",
       "      <th>2022-04-14 22:43:00+08:00</th>\n",
       "      <td>283.570007</td>\n",
       "      <td>10526.0</td>\n",
       "      <td>95.5</td>\n",
       "    </tr>\n",
       "  </tbody>\n",
       "</table>\n",
       "</div>"
      ],
      "text/plain": [
       "symbol                           MSFT    AZN.L  9988.HK\n",
       "2022-04-14 22:43:00+08:00  283.570007  10526.0     95.5"
      ]
     },
     "execution_count": 16,
     "metadata": {},
     "output_type": "execute_result"
    }
   ],
   "source": [
    "prices.price_at(minute, tz=\"9988.HK\")"
   ]
  },
  {
   "cell_type": "markdown",
   "metadata": {},
   "source": [
    "Note: The `tz` parameter also defines the timezone of `minute` in the event that `minute` is otherwise timezone-naive. In this way the `tz` parameter can be thought of as combining the `get` method's parameters 'tzin' and 'tzout'.\n",
    "\n",
    "Passing a minute as a date will raise an error. To pass a minute as `midnight` `minute` must have a timezone, either by passing `tz` or passing `minute` as a timezone-aware timestamp."
   ]
  },
  {
   "cell_type": "code",
   "execution_count": 17,
   "metadata": {},
   "outputs": [
    {
     "name": "stdout",
     "output_type": "stream",
     "text": [
      "midnight=Timestamp('2022-04-15 00:00:00+0000', tz='UTC')\n",
      "\n"
     ]
    },
    {
     "data": {
      "text/html": [
       "<div>\n",
       "<style scoped>\n",
       "    .dataframe tbody tr th:only-of-type {\n",
       "        vertical-align: middle;\n",
       "    }\n",
       "\n",
       "    .dataframe tbody tr th {\n",
       "        vertical-align: top;\n",
       "    }\n",
       "\n",
       "    .dataframe thead th {\n",
       "        text-align: right;\n",
       "    }\n",
       "</style>\n",
       "<table border=\"1\" class=\"dataframe\">\n",
       "  <thead>\n",
       "    <tr style=\"text-align: right;\">\n",
       "      <th>symbol</th>\n",
       "      <th>MSFT</th>\n",
       "      <th>AZN.L</th>\n",
       "      <th>9988.HK</th>\n",
       "    </tr>\n",
       "  </thead>\n",
       "  <tbody>\n",
       "    <tr>\n",
       "      <th>2022-04-14 21:00:00+01:00</th>\n",
       "      <td>279.779999</td>\n",
       "      <td>10522.0</td>\n",
       "      <td>95.5</td>\n",
       "    </tr>\n",
       "  </tbody>\n",
       "</table>\n",
       "</div>"
      ],
      "text/plain": [
       "symbol                           MSFT    AZN.L  9988.HK\n",
       "2022-04-14 21:00:00+01:00  279.779999  10522.0     95.5"
      ]
     },
     "execution_count": 17,
     "metadata": {},
     "output_type": "execute_result"
    }
   ],
   "source": [
    "midnight = minute.ceil(\"D\")\n",
    "print(f\"{midnight=}\\n\")  # for reference\n",
    "\n",
    "prices.price_at(midnight)"
   ]
  },
  {
   "cell_type": "markdown",
   "metadata": {},
   "source": [
    "Notice that although `minute` was passed as midnight, the indice reflects the New York Stock Exchange close (indice timezone is London). The **indice is always defined as `minute` or the most recent minute prior to `minute` EITHER at which data is available for any symbol and at least one of the underlying exchanges was open OR an underlying exchange closed**...\n",
    "\n",
    "In the above example no exchange was open at UTC midnight, hence the indice is the most recent close, in this case the New York close.\n",
    "\n",
    "Consider the following example for which underlying data is not available at any base interval smaller than 5 minutes (see the [data_availability](./data_availability.ipynb) tutorial for an explanation of base intervals)."
   ]
  },
  {
   "cell_type": "code",
   "execution_count": 18,
   "metadata": {},
   "outputs": [
    {
     "name": "stdout",
     "output_type": "stream",
     "text": [
      "minute_=Timestamp('2022-03-16 16:29:00+0000', tz='Europe/London')\n",
      "\n"
     ]
    },
    {
     "data": {
      "text/html": [
       "<div>\n",
       "<style scoped>\n",
       "    .dataframe tbody tr th:only-of-type {\n",
       "        vertical-align: middle;\n",
       "    }\n",
       "\n",
       "    .dataframe tbody tr th {\n",
       "        vertical-align: top;\n",
       "    }\n",
       "\n",
       "    .dataframe thead th {\n",
       "        text-align: right;\n",
       "    }\n",
       "</style>\n",
       "<table border=\"1\" class=\"dataframe\">\n",
       "  <thead>\n",
       "    <tr style=\"text-align: right;\">\n",
       "      <th>symbol</th>\n",
       "      <th>MSFT</th>\n",
       "      <th>AZN.L</th>\n",
       "      <th>9988.HK</th>\n",
       "    </tr>\n",
       "  </thead>\n",
       "  <tbody>\n",
       "    <tr>\n",
       "      <th>2022-03-16 16:25:00+00:00</th>\n",
       "      <td>290.51001</td>\n",
       "      <td>9415.0</td>\n",
       "      <td>90.699997</td>\n",
       "    </tr>\n",
       "  </tbody>\n",
       "</table>\n",
       "</div>"
      ],
      "text/plain": [
       "symbol                          MSFT   AZN.L    9988.HK\n",
       "2022-03-16 16:25:00+00:00  290.51001  9415.0  90.699997"
      ]
     },
     "execution_count": 18,
     "metadata": {},
     "output_type": "execute_result"
    }
   ],
   "source": [
    "minute = xlon.session_close(sessionT5) - pd.Timedelta(1, \"T\")\n",
    "minute_ = minute.astimezone(prices.tz_default)\n",
    "print(f\"{minute_=}\\n\")  # for reference\n",
    "\n",
    "prices.price_at(minute)"
   ]
  },
  {
   "cell_type": "markdown",
   "metadata": {},
   "source": [
    "Although `minute` is passed as 16:29, one minute before the London close, the indice is 16:25. In this case, as the smallest base interval available to serve the request is T5, the most recent price prior to `minute` at which data is available is the open price of the indice that covers the period 16:25 through 16:30.\n",
    "\n",
    "The effect of data availability is more pronounced when only daily data is available at the requested minute. The following cell shows the session prices for \"2019-12-11\", a session for which only daily data is available."
   ]
  },
  {
   "cell_type": "code",
   "execution_count": 19,
   "metadata": {},
   "outputs": [
    {
     "data": {
      "text/html": [
       "<div>\n",
       "<style scoped>\n",
       "    .dataframe tbody tr th:only-of-type {\n",
       "        vertical-align: middle;\n",
       "    }\n",
       "\n",
       "    .dataframe tbody tr th {\n",
       "        vertical-align: top;\n",
       "    }\n",
       "\n",
       "    .dataframe thead tr th {\n",
       "        text-align: left;\n",
       "    }\n",
       "</style>\n",
       "<table border=\"1\" class=\"dataframe\">\n",
       "  <thead>\n",
       "    <tr>\n",
       "      <th>symbol</th>\n",
       "      <th colspan=\"5\" halign=\"left\">MSFT</th>\n",
       "      <th colspan=\"5\" halign=\"left\">AZN.L</th>\n",
       "      <th colspan=\"5\" halign=\"left\">9988.HK</th>\n",
       "    </tr>\n",
       "    <tr>\n",
       "      <th></th>\n",
       "      <th>open</th>\n",
       "      <th>high</th>\n",
       "      <th>low</th>\n",
       "      <th>close</th>\n",
       "      <th>volume</th>\n",
       "      <th>open</th>\n",
       "      <th>high</th>\n",
       "      <th>low</th>\n",
       "      <th>close</th>\n",
       "      <th>volume</th>\n",
       "      <th>open</th>\n",
       "      <th>high</th>\n",
       "      <th>low</th>\n",
       "      <th>close</th>\n",
       "      <th>volume</th>\n",
       "    </tr>\n",
       "  </thead>\n",
       "  <tbody>\n",
       "    <tr>\n",
       "      <th>2019-12-11</th>\n",
       "      <td>151.539993</td>\n",
       "      <td>151.869995</td>\n",
       "      <td>150.330002</td>\n",
       "      <td>151.699997</td>\n",
       "      <td>18856600.0</td>\n",
       "      <td>7290.0</td>\n",
       "      <td>7342.0</td>\n",
       "      <td>7273.0</td>\n",
       "      <td>7306.0</td>\n",
       "      <td>2270223.0</td>\n",
       "      <td>196.199997</td>\n",
       "      <td>198.399994</td>\n",
       "      <td>195.399994</td>\n",
       "      <td>197.600006</td>\n",
       "      <td>6534411.0</td>\n",
       "    </tr>\n",
       "  </tbody>\n",
       "</table>\n",
       "</div>"
      ],
      "text/plain": [
       "symbol            MSFT                                                  \\\n",
       "                  open        high         low       close      volume   \n",
       "2019-12-11  151.539993  151.869995  150.330002  151.699997  18856600.0   \n",
       "\n",
       "symbol       AZN.L                                        9988.HK              \\\n",
       "              open    high     low   close     volume        open        high   \n",
       "2019-12-11  7290.0  7342.0  7273.0  7306.0  2270223.0  196.199997  198.399994   \n",
       "\n",
       "symbol                                         \n",
       "                   low       close     volume  \n",
       "2019-12-11  195.399994  197.600006  6534411.0  "
      ]
     },
     "execution_count": 19,
     "metadata": {},
     "output_type": "execute_result"
    }
   ],
   "source": [
    "session_1D = \"2019-12-11\"\n",
    "prices.session_prices(session_1D)"
   ]
  },
  {
   "cell_type": "markdown",
   "metadata": {},
   "source": [
    "Compare the above prices with the prices returned by `price_at` when requesting prices at one minute before the London close. "
   ]
  },
  {
   "cell_type": "code",
   "execution_count": 20,
   "metadata": {},
   "outputs": [
    {
     "name": "stdout",
     "output_type": "stream",
     "text": [
      "minute=Timestamp('2019-12-11 16:29:00+0000', tz='UTC')\n",
      "\n"
     ]
    },
    {
     "data": {
      "text/html": [
       "<div>\n",
       "<style scoped>\n",
       "    .dataframe tbody tr th:only-of-type {\n",
       "        vertical-align: middle;\n",
       "    }\n",
       "\n",
       "    .dataframe tbody tr th {\n",
       "        vertical-align: top;\n",
       "    }\n",
       "\n",
       "    .dataframe thead th {\n",
       "        text-align: right;\n",
       "    }\n",
       "</style>\n",
       "<table border=\"1\" class=\"dataframe\">\n",
       "  <thead>\n",
       "    <tr style=\"text-align: right;\">\n",
       "      <th>symbol</th>\n",
       "      <th>MSFT</th>\n",
       "      <th>AZN.L</th>\n",
       "      <th>9988.HK</th>\n",
       "    </tr>\n",
       "  </thead>\n",
       "  <tbody>\n",
       "    <tr>\n",
       "      <th>2019-12-11 14:30:00+00:00</th>\n",
       "      <td>151.539993</td>\n",
       "      <td>7290.0</td>\n",
       "      <td>197.600006</td>\n",
       "    </tr>\n",
       "  </tbody>\n",
       "</table>\n",
       "</div>"
      ],
      "text/plain": [
       "symbol                           MSFT   AZN.L     9988.HK\n",
       "2019-12-11 14:30:00+00:00  151.539993  7290.0  197.600006"
      ]
     },
     "execution_count": 20,
     "metadata": {},
     "output_type": "execute_result"
    }
   ],
   "source": [
    "one_min = pd.Timedelta(1, \"T\")\n",
    "minute = xlon.session_close(session_1D) - one_min\n",
    "print(f\"{minute=}\\n\")  # for reference\n",
    "\n",
    "prices.price_at(minute)"
   ]
  },
  {
   "cell_type": "markdown",
   "metadata": {},
   "source": [
    "The only price data available to serve the request is daily, from which the only prices known as at a specific time are the session open and the session close. Therefore, at one minute prior to the London close the most recent known price for each symbol is:\n",
    "* Alibaba - session close (Hong Kong closes 08:00 UTC)\n",
    "* Microsoft - session open (New York opens prior to London's close)\n",
    "* AstraZeneca - session open\n",
    "\n",
    "The indice reflects the most recent minute, prior to `minute`, for which price data is available for any symbol, in this case the New York open. **NOTE**: the price for AstraZeneca at this time, a couple of hours or so before the London close, would NOT have been the price shown (the price shown is as at the London open). **When `price_at` is served from daily data the price given for each symbol is the most recent price available as at the indice, which may not reflect the actual price at this time** (this is not so when `price_at` is served from intraday price data, in which case prices will always be the 'price at' the indice).\n",
    "\n",
    "Requesting prices at one minute later, i.e. the London close, shows how the price for AstraZeneca can now reflect the session close. The other prices remain the same although the indice moves forward to the London close."
   ]
  },
  {
   "cell_type": "code",
   "execution_count": 21,
   "metadata": {},
   "outputs": [
    {
     "data": {
      "text/html": [
       "<div>\n",
       "<style scoped>\n",
       "    .dataframe tbody tr th:only-of-type {\n",
       "        vertical-align: middle;\n",
       "    }\n",
       "\n",
       "    .dataframe tbody tr th {\n",
       "        vertical-align: top;\n",
       "    }\n",
       "\n",
       "    .dataframe thead th {\n",
       "        text-align: right;\n",
       "    }\n",
       "</style>\n",
       "<table border=\"1\" class=\"dataframe\">\n",
       "  <thead>\n",
       "    <tr style=\"text-align: right;\">\n",
       "      <th>symbol</th>\n",
       "      <th>MSFT</th>\n",
       "      <th>AZN.L</th>\n",
       "      <th>9988.HK</th>\n",
       "    </tr>\n",
       "  </thead>\n",
       "  <tbody>\n",
       "    <tr>\n",
       "      <th>2019-12-11 16:30:00+00:00</th>\n",
       "      <td>151.539993</td>\n",
       "      <td>7306.0</td>\n",
       "      <td>197.600006</td>\n",
       "    </tr>\n",
       "  </tbody>\n",
       "</table>\n",
       "</div>"
      ],
      "text/plain": [
       "symbol                           MSFT   AZN.L     9988.HK\n",
       "2019-12-11 16:30:00+00:00  151.539993  7306.0  197.600006"
      ]
     },
     "execution_count": 21,
     "metadata": {},
     "output_type": "execute_result"
    }
   ],
   "source": [
    "prices.price_at(minute + one_min)"
   ]
  },
  {
   "cell_type": "markdown",
   "metadata": {},
   "source": [
    "## `price_range`\n",
    "\n",
    "`price_range` returns OHLCV data for a period evaluated from period parameters."
   ]
  },
  {
   "cell_type": "code",
   "execution_count": 22,
   "metadata": {},
   "outputs": [
    {
     "data": {
      "text/html": [
       "<div>\n",
       "<style scoped>\n",
       "    .dataframe tbody tr th:only-of-type {\n",
       "        vertical-align: middle;\n",
       "    }\n",
       "\n",
       "    .dataframe tbody tr th {\n",
       "        vertical-align: top;\n",
       "    }\n",
       "\n",
       "    .dataframe thead tr th {\n",
       "        text-align: left;\n",
       "    }\n",
       "</style>\n",
       "<table border=\"1\" class=\"dataframe\">\n",
       "  <thead>\n",
       "    <tr>\n",
       "      <th>symbol</th>\n",
       "      <th colspan=\"5\" halign=\"left\">MSFT</th>\n",
       "      <th colspan=\"5\" halign=\"left\">AZN.L</th>\n",
       "      <th colspan=\"5\" halign=\"left\">9988.HK</th>\n",
       "    </tr>\n",
       "    <tr>\n",
       "      <th></th>\n",
       "      <th>open</th>\n",
       "      <th>high</th>\n",
       "      <th>low</th>\n",
       "      <th>close</th>\n",
       "      <th>volume</th>\n",
       "      <th>open</th>\n",
       "      <th>high</th>\n",
       "      <th>low</th>\n",
       "      <th>close</th>\n",
       "      <th>volume</th>\n",
       "      <th>open</th>\n",
       "      <th>high</th>\n",
       "      <th>low</th>\n",
       "      <th>close</th>\n",
       "      <th>volume</th>\n",
       "    </tr>\n",
       "  </thead>\n",
       "  <tbody>\n",
       "    <tr>\n",
       "      <th>(2022-03-18 01:30:00, 2022-04-14 21:00:00]</th>\n",
       "      <td>295.369995</td>\n",
       "      <td>315.950012</td>\n",
       "      <td>279.320007</td>\n",
       "      <td>279.829987</td>\n",
       "      <td>579770300.0</td>\n",
       "      <td>9650.0</td>\n",
       "      <td>11000.0</td>\n",
       "      <td>9482.0</td>\n",
       "      <td>10536.0</td>\n",
       "      <td>51707521.0</td>\n",
       "      <td>97.150002</td>\n",
       "      <td>119.400002</td>\n",
       "      <td>93.849998</td>\n",
       "      <td>95.5</td>\n",
       "      <td>946826155.0</td>\n",
       "    </tr>\n",
       "  </tbody>\n",
       "</table>\n",
       "</div>"
      ],
      "text/plain": [
       "symbol                                            MSFT              \\\n",
       "                                                  open        high   \n",
       "(2022-03-18 01:30:00, 2022-04-14 21:00:00]  295.369995  315.950012   \n",
       "\n",
       "symbol                                                              \\\n",
       "                                                   low       close   \n",
       "(2022-03-18 01:30:00, 2022-04-14 21:00:00]  279.320007  279.829987   \n",
       "\n",
       "symbol                                                    AZN.L           \\\n",
       "                                                 volume    open     high   \n",
       "(2022-03-18 01:30:00, 2022-04-14 21:00:00]  579770300.0  9650.0  11000.0   \n",
       "\n",
       "symbol                                                                   \\\n",
       "                                               low    close      volume   \n",
       "(2022-03-18 01:30:00, 2022-04-14 21:00:00]  9482.0  10536.0  51707521.0   \n",
       "\n",
       "symbol                                        9988.HK                         \\\n",
       "                                                 open        high        low   \n",
       "(2022-03-18 01:30:00, 2022-04-14 21:00:00]  97.150002  119.400002  93.849998   \n",
       "\n",
       "symbol                                                         \n",
       "                                           close       volume  \n",
       "(2022-03-18 01:30:00, 2022-04-14 21:00:00]  95.5  946826155.0  "
      ]
     },
     "execution_count": 22,
     "metadata": {},
     "output_type": "execute_result"
    }
   ],
   "source": [
    "prices.price_range(end=session, days=20)"
   ]
  },
  {
   "cell_type": "markdown",
   "metadata": {},
   "source": [
    "The following prices are offered for each symbol:\n",
    "* 'open' - price at start of the period.\n",
    "* 'high' - highest price registered during the period.\n",
    "* 'low' - lowest price registered during the period.\n",
    "* 'close' - price at end of the period.\n",
    "* 'volume' - total volume registered over the period.\n",
    "\n",
    "The indice expresses the period covered by the data.\n",
    "\n",
    "Under-the-bonnet the method simply passes the parameters to the `get` method and then evaluates the aggregated data from the returned table. `price_range` can take any valid combination of period parameters that can be passed to `get` (see [periods](./periods.ipynb) tutorial).\n",
    "\n",
    "Passing `underlying` as `True` returns the underlying table as the second item of a tuple."
   ]
  },
  {
   "cell_type": "code",
   "execution_count": 23,
   "metadata": {},
   "outputs": [
    {
     "name": "stdout",
     "output_type": "stream",
     "text": [
      "minute=Timestamp('2022-03-16 13:45:00+0000', tz='UTC')\n",
      "\n"
     ]
    },
    {
     "data": {
      "text/html": [
       "<div>\n",
       "<style scoped>\n",
       "    .dataframe tbody tr th:only-of-type {\n",
       "        vertical-align: middle;\n",
       "    }\n",
       "\n",
       "    .dataframe tbody tr th {\n",
       "        vertical-align: top;\n",
       "    }\n",
       "\n",
       "    .dataframe thead tr th {\n",
       "        text-align: left;\n",
       "    }\n",
       "</style>\n",
       "<table border=\"1\" class=\"dataframe\">\n",
       "  <thead>\n",
       "    <tr>\n",
       "      <th>symbol</th>\n",
       "      <th colspan=\"5\" halign=\"left\">MSFT</th>\n",
       "      <th colspan=\"5\" halign=\"left\">AZN.L</th>\n",
       "      <th colspan=\"5\" halign=\"left\">9988.HK</th>\n",
       "    </tr>\n",
       "    <tr>\n",
       "      <th></th>\n",
       "      <th>open</th>\n",
       "      <th>high</th>\n",
       "      <th>low</th>\n",
       "      <th>close</th>\n",
       "      <th>volume</th>\n",
       "      <th>open</th>\n",
       "      <th>high</th>\n",
       "      <th>low</th>\n",
       "      <th>close</th>\n",
       "      <th>volume</th>\n",
       "      <th>open</th>\n",
       "      <th>high</th>\n",
       "      <th>low</th>\n",
       "      <th>close</th>\n",
       "      <th>volume</th>\n",
       "    </tr>\n",
       "  </thead>\n",
       "  <tbody>\n",
       "    <tr>\n",
       "      <th>(2019-03-18 01:30:00, 2022-03-16 13:45:00]</th>\n",
       "      <td>116.169998</td>\n",
       "      <td>349.670013</td>\n",
       "      <td>115.519997</td>\n",
       "      <td>290.75</td>\n",
       "      <td>2.280511e+10</td>\n",
       "      <td>6290.0</td>\n",
       "      <td>10120.0</td>\n",
       "      <td>5626.0</td>\n",
       "      <td>9452.0</td>\n",
       "      <td>1.907237e+09</td>\n",
       "      <td>187.0</td>\n",
       "      <td>309.399994</td>\n",
       "      <td>71.0</td>\n",
       "      <td>90.699997</td>\n",
       "      <td>1.679227e+10</td>\n",
       "    </tr>\n",
       "  </tbody>\n",
       "</table>\n",
       "</div>"
      ],
      "text/plain": [
       "symbol                                            MSFT              \\\n",
       "                                                  open        high   \n",
       "(2019-03-18 01:30:00, 2022-03-16 13:45:00]  116.169998  349.670013   \n",
       "\n",
       "symbol                                                                        \\\n",
       "                                                   low   close        volume   \n",
       "(2019-03-18 01:30:00, 2022-03-16 13:45:00]  115.519997  290.75  2.280511e+10   \n",
       "\n",
       "symbol                                       AZN.L                           \\\n",
       "                                              open     high     low   close   \n",
       "(2019-03-18 01:30:00, 2022-03-16 13:45:00]  6290.0  10120.0  5626.0  9452.0   \n",
       "\n",
       "symbol                                                   9988.HK              \\\n",
       "                                                  volume    open        high   \n",
       "(2019-03-18 01:30:00, 2022-03-16 13:45:00]  1.907237e+09   187.0  309.399994   \n",
       "\n",
       "symbol                                                                     \n",
       "                                             low      close        volume  \n",
       "(2019-03-18 01:30:00, 2022-03-16 13:45:00]  71.0  90.699997  1.679227e+10  "
      ]
     },
     "execution_count": 23,
     "metadata": {},
     "output_type": "execute_result"
    }
   ],
   "source": [
    "minute = xnys.session_open(sessionT5) + pd.Timedelta(15, \"T\")\n",
    "print(f\"{minute=}\\n\")  # for reference\n",
    "\n",
    "rng, df = prices.price_range(end=minute, years=3, underlying=True)\n",
    "rng"
   ]
  },
  {
   "cell_type": "code",
   "execution_count": 24,
   "metadata": {},
   "outputs": [
    {
     "data": {
      "text/html": [
       "<div>\n",
       "<style scoped>\n",
       "    .dataframe tbody tr th:only-of-type {\n",
       "        vertical-align: middle;\n",
       "    }\n",
       "\n",
       "    .dataframe tbody tr th {\n",
       "        vertical-align: top;\n",
       "    }\n",
       "\n",
       "    .dataframe thead tr th {\n",
       "        text-align: left;\n",
       "    }\n",
       "</style>\n",
       "<table border=\"1\" class=\"dataframe\">\n",
       "  <thead>\n",
       "    <tr>\n",
       "      <th>symbol</th>\n",
       "      <th colspan=\"5\" halign=\"left\">MSFT</th>\n",
       "      <th colspan=\"5\" halign=\"left\">AZN.L</th>\n",
       "      <th colspan=\"5\" halign=\"left\">9988.HK</th>\n",
       "    </tr>\n",
       "    <tr>\n",
       "      <th></th>\n",
       "      <th>open</th>\n",
       "      <th>high</th>\n",
       "      <th>low</th>\n",
       "      <th>close</th>\n",
       "      <th>volume</th>\n",
       "      <th>open</th>\n",
       "      <th>high</th>\n",
       "      <th>low</th>\n",
       "      <th>close</th>\n",
       "      <th>volume</th>\n",
       "      <th>open</th>\n",
       "      <th>high</th>\n",
       "      <th>low</th>\n",
       "      <th>close</th>\n",
       "      <th>volume</th>\n",
       "    </tr>\n",
       "  </thead>\n",
       "  <tbody>\n",
       "    <tr>\n",
       "      <th>[2019-03-18, 2019-03-18)</th>\n",
       "      <td>116.169998</td>\n",
       "      <td>117.610001</td>\n",
       "      <td>116.050003</td>\n",
       "      <td>117.570000</td>\n",
       "      <td>31207600.0</td>\n",
       "      <td>6290.0</td>\n",
       "      <td>6364.0</td>\n",
       "      <td>6290.0</td>\n",
       "      <td>6350.000000</td>\n",
       "      <td>1262164.0</td>\n",
       "      <td>NaN</td>\n",
       "      <td>NaN</td>\n",
       "      <td>NaN</td>\n",
       "      <td>NaN</td>\n",
       "      <td>NaN</td>\n",
       "    </tr>\n",
       "    <tr>\n",
       "      <th>[2019-03-19, 2019-03-19)</th>\n",
       "      <td>118.089996</td>\n",
       "      <td>118.440002</td>\n",
       "      <td>116.989998</td>\n",
       "      <td>117.650002</td>\n",
       "      <td>37588700.0</td>\n",
       "      <td>6332.0</td>\n",
       "      <td>6405.0</td>\n",
       "      <td>6332.0</td>\n",
       "      <td>6368.000000</td>\n",
       "      <td>1469458.0</td>\n",
       "      <td>NaN</td>\n",
       "      <td>NaN</td>\n",
       "      <td>NaN</td>\n",
       "      <td>NaN</td>\n",
       "      <td>NaN</td>\n",
       "    </tr>\n",
       "    <tr>\n",
       "      <th>[2019-03-20, 2019-03-20)</th>\n",
       "      <td>117.389999</td>\n",
       "      <td>118.750000</td>\n",
       "      <td>116.709999</td>\n",
       "      <td>117.519997</td>\n",
       "      <td>28113300.0</td>\n",
       "      <td>6373.0</td>\n",
       "      <td>6467.0</td>\n",
       "      <td>6373.0</td>\n",
       "      <td>6401.000000</td>\n",
       "      <td>1674037.0</td>\n",
       "      <td>NaN</td>\n",
       "      <td>NaN</td>\n",
       "      <td>NaN</td>\n",
       "      <td>NaN</td>\n",
       "      <td>NaN</td>\n",
       "    </tr>\n",
       "    <tr>\n",
       "      <th>[2019-03-21, 2019-03-21)</th>\n",
       "      <td>117.139999</td>\n",
       "      <td>120.820000</td>\n",
       "      <td>117.089996</td>\n",
       "      <td>120.220001</td>\n",
       "      <td>29854400.0</td>\n",
       "      <td>6400.0</td>\n",
       "      <td>6540.0</td>\n",
       "      <td>6400.0</td>\n",
       "      <td>6525.000000</td>\n",
       "      <td>1782299.0</td>\n",
       "      <td>NaN</td>\n",
       "      <td>NaN</td>\n",
       "      <td>NaN</td>\n",
       "      <td>NaN</td>\n",
       "      <td>NaN</td>\n",
       "    </tr>\n",
       "    <tr>\n",
       "      <th>[2019-03-22, 2019-03-22)</th>\n",
       "      <td>119.500000</td>\n",
       "      <td>119.589996</td>\n",
       "      <td>117.040001</td>\n",
       "      <td>117.050003</td>\n",
       "      <td>33624500.0</td>\n",
       "      <td>6468.0</td>\n",
       "      <td>6468.0</td>\n",
       "      <td>6335.0</td>\n",
       "      <td>6351.000000</td>\n",
       "      <td>1923870.0</td>\n",
       "      <td>NaN</td>\n",
       "      <td>NaN</td>\n",
       "      <td>NaN</td>\n",
       "      <td>NaN</td>\n",
       "      <td>NaN</td>\n",
       "    </tr>\n",
       "    <tr>\n",
       "      <th>...</th>\n",
       "      <td>...</td>\n",
       "      <td>...</td>\n",
       "      <td>...</td>\n",
       "      <td>...</td>\n",
       "      <td>...</td>\n",
       "      <td>...</td>\n",
       "      <td>...</td>\n",
       "      <td>...</td>\n",
       "      <td>...</td>\n",
       "      <td>...</td>\n",
       "      <td>...</td>\n",
       "      <td>...</td>\n",
       "      <td>...</td>\n",
       "      <td>...</td>\n",
       "      <td>...</td>\n",
       "    </tr>\n",
       "    <tr>\n",
       "      <th>[2022-03-16 13:20:00, 2022-03-16 13:25:00)</th>\n",
       "      <td>NaN</td>\n",
       "      <td>NaN</td>\n",
       "      <td>NaN</td>\n",
       "      <td>NaN</td>\n",
       "      <td>NaN</td>\n",
       "      <td>9456.0</td>\n",
       "      <td>9459.0</td>\n",
       "      <td>9450.0</td>\n",
       "      <td>9455.000000</td>\n",
       "      <td>5093.0</td>\n",
       "      <td>NaN</td>\n",
       "      <td>NaN</td>\n",
       "      <td>NaN</td>\n",
       "      <td>NaN</td>\n",
       "      <td>NaN</td>\n",
       "    </tr>\n",
       "    <tr>\n",
       "      <th>[2022-03-16 13:25:00, 2022-03-16 13:30:00)</th>\n",
       "      <td>NaN</td>\n",
       "      <td>NaN</td>\n",
       "      <td>NaN</td>\n",
       "      <td>NaN</td>\n",
       "      <td>NaN</td>\n",
       "      <td>9454.0</td>\n",
       "      <td>9467.0</td>\n",
       "      <td>9445.0</td>\n",
       "      <td>9463.302734</td>\n",
       "      <td>20563.0</td>\n",
       "      <td>NaN</td>\n",
       "      <td>NaN</td>\n",
       "      <td>NaN</td>\n",
       "      <td>NaN</td>\n",
       "      <td>NaN</td>\n",
       "    </tr>\n",
       "    <tr>\n",
       "      <th>[2022-03-16 13:30:00, 2022-03-16 13:35:00)</th>\n",
       "      <td>289.109985</td>\n",
       "      <td>290.829987</td>\n",
       "      <td>289.029999</td>\n",
       "      <td>290.190002</td>\n",
       "      <td>1794399.0</td>\n",
       "      <td>9462.0</td>\n",
       "      <td>9463.0</td>\n",
       "      <td>9447.0</td>\n",
       "      <td>9448.000000</td>\n",
       "      <td>25119.0</td>\n",
       "      <td>NaN</td>\n",
       "      <td>NaN</td>\n",
       "      <td>NaN</td>\n",
       "      <td>NaN</td>\n",
       "      <td>NaN</td>\n",
       "    </tr>\n",
       "    <tr>\n",
       "      <th>[2022-03-16 13:35:00, 2022-03-16 13:40:00)</th>\n",
       "      <td>290.209991</td>\n",
       "      <td>292.230011</td>\n",
       "      <td>289.940002</td>\n",
       "      <td>291.747711</td>\n",
       "      <td>904231.0</td>\n",
       "      <td>9450.0</td>\n",
       "      <td>9463.0</td>\n",
       "      <td>9448.0</td>\n",
       "      <td>9459.000000</td>\n",
       "      <td>18785.0</td>\n",
       "      <td>NaN</td>\n",
       "      <td>NaN</td>\n",
       "      <td>NaN</td>\n",
       "      <td>NaN</td>\n",
       "      <td>NaN</td>\n",
       "    </tr>\n",
       "    <tr>\n",
       "      <th>[2022-03-16 13:40:00, 2022-03-16 13:45:00)</th>\n",
       "      <td>291.730011</td>\n",
       "      <td>291.980011</td>\n",
       "      <td>290.549988</td>\n",
       "      <td>290.750000</td>\n",
       "      <td>620692.0</td>\n",
       "      <td>9460.0</td>\n",
       "      <td>9461.0</td>\n",
       "      <td>9442.0</td>\n",
       "      <td>9452.000000</td>\n",
       "      <td>20088.0</td>\n",
       "      <td>NaN</td>\n",
       "      <td>NaN</td>\n",
       "      <td>NaN</td>\n",
       "      <td>NaN</td>\n",
       "      <td>NaN</td>\n",
       "    </tr>\n",
       "  </tbody>\n",
       "</table>\n",
       "<p>910 rows × 15 columns</p>\n",
       "</div>"
      ],
      "text/plain": [
       "symbol                                            MSFT              \\\n",
       "                                                  open        high   \n",
       "[2019-03-18, 2019-03-18)                    116.169998  117.610001   \n",
       "[2019-03-19, 2019-03-19)                    118.089996  118.440002   \n",
       "[2019-03-20, 2019-03-20)                    117.389999  118.750000   \n",
       "[2019-03-21, 2019-03-21)                    117.139999  120.820000   \n",
       "[2019-03-22, 2019-03-22)                    119.500000  119.589996   \n",
       "...                                                ...         ...   \n",
       "[2022-03-16 13:20:00, 2022-03-16 13:25:00)         NaN         NaN   \n",
       "[2022-03-16 13:25:00, 2022-03-16 13:30:00)         NaN         NaN   \n",
       "[2022-03-16 13:30:00, 2022-03-16 13:35:00)  289.109985  290.829987   \n",
       "[2022-03-16 13:35:00, 2022-03-16 13:40:00)  290.209991  292.230011   \n",
       "[2022-03-16 13:40:00, 2022-03-16 13:45:00)  291.730011  291.980011   \n",
       "\n",
       "symbol                                                              \\\n",
       "                                                   low       close   \n",
       "[2019-03-18, 2019-03-18)                    116.050003  117.570000   \n",
       "[2019-03-19, 2019-03-19)                    116.989998  117.650002   \n",
       "[2019-03-20, 2019-03-20)                    116.709999  117.519997   \n",
       "[2019-03-21, 2019-03-21)                    117.089996  120.220001   \n",
       "[2019-03-22, 2019-03-22)                    117.040001  117.050003   \n",
       "...                                                ...         ...   \n",
       "[2022-03-16 13:20:00, 2022-03-16 13:25:00)         NaN         NaN   \n",
       "[2022-03-16 13:25:00, 2022-03-16 13:30:00)         NaN         NaN   \n",
       "[2022-03-16 13:30:00, 2022-03-16 13:35:00)  289.029999  290.190002   \n",
       "[2022-03-16 13:35:00, 2022-03-16 13:40:00)  289.940002  291.747711   \n",
       "[2022-03-16 13:40:00, 2022-03-16 13:45:00)  290.549988  290.750000   \n",
       "\n",
       "symbol                                                   AZN.L          \\\n",
       "                                                volume    open    high   \n",
       "[2019-03-18, 2019-03-18)                    31207600.0  6290.0  6364.0   \n",
       "[2019-03-19, 2019-03-19)                    37588700.0  6332.0  6405.0   \n",
       "[2019-03-20, 2019-03-20)                    28113300.0  6373.0  6467.0   \n",
       "[2019-03-21, 2019-03-21)                    29854400.0  6400.0  6540.0   \n",
       "[2019-03-22, 2019-03-22)                    33624500.0  6468.0  6468.0   \n",
       "...                                                ...     ...     ...   \n",
       "[2022-03-16 13:20:00, 2022-03-16 13:25:00)         NaN  9456.0  9459.0   \n",
       "[2022-03-16 13:25:00, 2022-03-16 13:30:00)         NaN  9454.0  9467.0   \n",
       "[2022-03-16 13:30:00, 2022-03-16 13:35:00)   1794399.0  9462.0  9463.0   \n",
       "[2022-03-16 13:35:00, 2022-03-16 13:40:00)    904231.0  9450.0  9463.0   \n",
       "[2022-03-16 13:40:00, 2022-03-16 13:45:00)    620692.0  9460.0  9461.0   \n",
       "\n",
       "symbol                                                                      \\\n",
       "                                               low        close     volume   \n",
       "[2019-03-18, 2019-03-18)                    6290.0  6350.000000  1262164.0   \n",
       "[2019-03-19, 2019-03-19)                    6332.0  6368.000000  1469458.0   \n",
       "[2019-03-20, 2019-03-20)                    6373.0  6401.000000  1674037.0   \n",
       "[2019-03-21, 2019-03-21)                    6400.0  6525.000000  1782299.0   \n",
       "[2019-03-22, 2019-03-22)                    6335.0  6351.000000  1923870.0   \n",
       "...                                            ...          ...        ...   \n",
       "[2022-03-16 13:20:00, 2022-03-16 13:25:00)  9450.0  9455.000000     5093.0   \n",
       "[2022-03-16 13:25:00, 2022-03-16 13:30:00)  9445.0  9463.302734    20563.0   \n",
       "[2022-03-16 13:30:00, 2022-03-16 13:35:00)  9447.0  9448.000000    25119.0   \n",
       "[2022-03-16 13:35:00, 2022-03-16 13:40:00)  9448.0  9459.000000    18785.0   \n",
       "[2022-03-16 13:40:00, 2022-03-16 13:45:00)  9442.0  9452.000000    20088.0   \n",
       "\n",
       "symbol                                     9988.HK                        \n",
       "                                              open high low close volume  \n",
       "[2019-03-18, 2019-03-18)                       NaN  NaN NaN   NaN    NaN  \n",
       "[2019-03-19, 2019-03-19)                       NaN  NaN NaN   NaN    NaN  \n",
       "[2019-03-20, 2019-03-20)                       NaN  NaN NaN   NaN    NaN  \n",
       "[2019-03-21, 2019-03-21)                       NaN  NaN NaN   NaN    NaN  \n",
       "[2019-03-22, 2019-03-22)                       NaN  NaN NaN   NaN    NaN  \n",
       "...                                            ...  ...  ..   ...    ...  \n",
       "[2022-03-16 13:20:00, 2022-03-16 13:25:00)     NaN  NaN NaN   NaN    NaN  \n",
       "[2022-03-16 13:25:00, 2022-03-16 13:30:00)     NaN  NaN NaN   NaN    NaN  \n",
       "[2022-03-16 13:30:00, 2022-03-16 13:35:00)     NaN  NaN NaN   NaN    NaN  \n",
       "[2022-03-16 13:35:00, 2022-03-16 13:40:00)     NaN  NaN NaN   NaN    NaN  \n",
       "[2022-03-16 13:40:00, 2022-03-16 13:45:00)     NaN  NaN NaN   NaN    NaN  \n",
       "\n",
       "[910 rows x 15 columns]"
      ]
     },
     "execution_count": 24,
     "metadata": {},
     "output_type": "execute_result"
    }
   ],
   "source": [
    "df"
   ]
  },
  {
   "cell_type": "markdown",
   "metadata": {},
   "source": [
    "Notice that the method gets composite tables whenever these can represent the period end with greater accuracy than a table with a regular interval could.\n",
    "\n",
    "The indice will always be timezone aware, by default with timezone as the Prices instance's default timezone (`prices.tz_default`). This can be changed by passing either or both `tzin` and `tzout`, with the same consequences as for `get`."
   ]
  },
  {
   "cell_type": "code",
   "execution_count": 25,
   "metadata": {},
   "outputs": [
    {
     "name": "stdout",
     "output_type": "stream",
     "text": [
      "minute_=Timestamp('2022-03-16 21:45:00+0800', tz='Australia/Perth')\n",
      "\n"
     ]
    },
    {
     "data": {
      "text/html": [
       "<div>\n",
       "<style scoped>\n",
       "    .dataframe tbody tr th:only-of-type {\n",
       "        vertical-align: middle;\n",
       "    }\n",
       "\n",
       "    .dataframe tbody tr th {\n",
       "        vertical-align: top;\n",
       "    }\n",
       "\n",
       "    .dataframe thead tr th {\n",
       "        text-align: left;\n",
       "    }\n",
       "</style>\n",
       "<table border=\"1\" class=\"dataframe\">\n",
       "  <thead>\n",
       "    <tr>\n",
       "      <th>symbol</th>\n",
       "      <th colspan=\"5\" halign=\"left\">MSFT</th>\n",
       "      <th colspan=\"5\" halign=\"left\">AZN.L</th>\n",
       "      <th colspan=\"5\" halign=\"left\">9988.HK</th>\n",
       "    </tr>\n",
       "    <tr>\n",
       "      <th></th>\n",
       "      <th>open</th>\n",
       "      <th>high</th>\n",
       "      <th>low</th>\n",
       "      <th>close</th>\n",
       "      <th>volume</th>\n",
       "      <th>open</th>\n",
       "      <th>high</th>\n",
       "      <th>low</th>\n",
       "      <th>close</th>\n",
       "      <th>volume</th>\n",
       "      <th>open</th>\n",
       "      <th>high</th>\n",
       "      <th>low</th>\n",
       "      <th>close</th>\n",
       "      <th>volume</th>\n",
       "    </tr>\n",
       "  </thead>\n",
       "  <tbody>\n",
       "    <tr>\n",
       "      <th>(2022-03-16 16:45:00, 2022-03-16 21:45:00]</th>\n",
       "      <td>289.109985</td>\n",
       "      <td>292.230011</td>\n",
       "      <td>289.029999</td>\n",
       "      <td>290.75</td>\n",
       "      <td>3319322.0</td>\n",
       "      <td>9432.0</td>\n",
       "      <td>9481.019531</td>\n",
       "      <td>9366.302734</td>\n",
       "      <td>9452.0</td>\n",
       "      <td>1267205.0</td>\n",
       "      <td>NaN</td>\n",
       "      <td>NaN</td>\n",
       "      <td>NaN</td>\n",
       "      <td>NaN</td>\n",
       "      <td>0.0</td>\n",
       "    </tr>\n",
       "  </tbody>\n",
       "</table>\n",
       "</div>"
      ],
      "text/plain": [
       "symbol                                            MSFT              \\\n",
       "                                                  open        high   \n",
       "(2022-03-16 16:45:00, 2022-03-16 21:45:00]  289.109985  292.230011   \n",
       "\n",
       "symbol                                                                     \\\n",
       "                                                   low   close     volume   \n",
       "(2022-03-16 16:45:00, 2022-03-16 21:45:00]  289.029999  290.75  3319322.0   \n",
       "\n",
       "symbol                                       AZN.L                            \\\n",
       "                                              open         high          low   \n",
       "(2022-03-16 16:45:00, 2022-03-16 21:45:00]  9432.0  9481.019531  9366.302734   \n",
       "\n",
       "symbol                                                        9988.HK       \\\n",
       "                                             close     volume    open high   \n",
       "(2022-03-16 16:45:00, 2022-03-16 21:45:00]  9452.0  1267205.0     NaN  NaN   \n",
       "\n",
       "symbol                                                       \n",
       "                                           low close volume  \n",
       "(2022-03-16 16:45:00, 2022-03-16 21:45:00] NaN   NaN    0.0  "
      ]
     },
     "execution_count": 25,
     "metadata": {},
     "output_type": "execute_result"
    }
   ],
   "source": [
    "tz = ZoneInfo(\"Australia/Perth\")\n",
    "minute_ = minute.astimezone(tz)\n",
    "print(f\"{minute_=}\\n\")  # for reference\n",
    "\n",
    "rng = prices.price_range(end=minute, hours=5, tzout=tz)\n",
    "rng"
   ]
  },
  {
   "cell_type": "code",
   "execution_count": 26,
   "metadata": {},
   "outputs": [
    {
     "data": {
      "text/plain": [
       "True"
      ]
     },
     "execution_count": 26,
     "metadata": {},
     "output_type": "execute_result"
    }
   ],
   "source": [
    "rng.index.left.tz == tz == rng.pt.tz"
   ]
  },
  {
   "cell_type": "markdown",
   "metadata": {},
   "source": [
    "`lead_symbol` can be passed to define the calendar that the period should be evaluated against. As with `get`, this will also determine the timezone of the output (passing `tzout` will override this effect)."
   ]
  },
  {
   "cell_type": "code",
   "execution_count": 27,
   "metadata": {},
   "outputs": [
    {
     "name": "stdout",
     "output_type": "stream",
     "text": [
      "minute=Timestamp('2022-03-16 13:45:00+0000', tz='UTC')\n",
      "\n"
     ]
    },
    {
     "data": {
      "text/html": [
       "<div>\n",
       "<style scoped>\n",
       "    .dataframe tbody tr th:only-of-type {\n",
       "        vertical-align: middle;\n",
       "    }\n",
       "\n",
       "    .dataframe tbody tr th {\n",
       "        vertical-align: top;\n",
       "    }\n",
       "\n",
       "    .dataframe thead tr th {\n",
       "        text-align: left;\n",
       "    }\n",
       "</style>\n",
       "<table border=\"1\" class=\"dataframe\">\n",
       "  <thead>\n",
       "    <tr>\n",
       "      <th>symbol</th>\n",
       "      <th colspan=\"5\" halign=\"left\">MSFT</th>\n",
       "      <th colspan=\"5\" halign=\"left\">AZN.L</th>\n",
       "      <th colspan=\"5\" halign=\"left\">9988.HK</th>\n",
       "    </tr>\n",
       "    <tr>\n",
       "      <th></th>\n",
       "      <th>open</th>\n",
       "      <th>high</th>\n",
       "      <th>low</th>\n",
       "      <th>close</th>\n",
       "      <th>volume</th>\n",
       "      <th>open</th>\n",
       "      <th>high</th>\n",
       "      <th>low</th>\n",
       "      <th>close</th>\n",
       "      <th>volume</th>\n",
       "      <th>open</th>\n",
       "      <th>high</th>\n",
       "      <th>low</th>\n",
       "      <th>close</th>\n",
       "      <th>volume</th>\n",
       "    </tr>\n",
       "  </thead>\n",
       "  <tbody>\n",
       "    <tr>\n",
       "      <th>(2022-03-15 11:15:00, 2022-03-16 09:45:00]</th>\n",
       "      <td>281.954987</td>\n",
       "      <td>292.230011</td>\n",
       "      <td>281.410004</td>\n",
       "      <td>290.75</td>\n",
       "      <td>21769747.0</td>\n",
       "      <td>9326.0</td>\n",
       "      <td>9481.019531</td>\n",
       "      <td>9255.0</td>\n",
       "      <td>9452.0</td>\n",
       "      <td>2552609.0</td>\n",
       "      <td>74.599998</td>\n",
       "      <td>93.900002</td>\n",
       "      <td>73.699997</td>\n",
       "      <td>90.699997</td>\n",
       "      <td>137009564.0</td>\n",
       "    </tr>\n",
       "  </tbody>\n",
       "</table>\n",
       "</div>"
      ],
      "text/plain": [
       "symbol                                            MSFT              \\\n",
       "                                                  open        high   \n",
       "(2022-03-15 11:15:00, 2022-03-16 09:45:00]  281.954987  292.230011   \n",
       "\n",
       "symbol                                                                      \\\n",
       "                                                   low   close      volume   \n",
       "(2022-03-15 11:15:00, 2022-03-16 09:45:00]  281.410004  290.75  21769747.0   \n",
       "\n",
       "symbol                                       AZN.L                       \\\n",
       "                                              open         high     low   \n",
       "(2022-03-15 11:15:00, 2022-03-16 09:45:00]  9326.0  9481.019531  9255.0   \n",
       "\n",
       "symbol                                                           9988.HK  \\\n",
       "                                             close     volume       open   \n",
       "(2022-03-15 11:15:00, 2022-03-16 09:45:00]  9452.0  2552609.0  74.599998   \n",
       "\n",
       "symbol                                                                       \\\n",
       "                                                 high        low      close   \n",
       "(2022-03-15 11:15:00, 2022-03-16 09:45:00]  93.900002  73.699997  90.699997   \n",
       "\n",
       "symbol                                                   \n",
       "                                                 volume  \n",
       "(2022-03-15 11:15:00, 2022-03-16 09:45:00]  137009564.0  "
      ]
     },
     "execution_count": 27,
     "metadata": {},
     "output_type": "execute_result"
    }
   ],
   "source": [
    "print(f\"{minute=}\\n\")  # for reference\n",
    "\n",
    "rng = prices.price_range(end=minute, hours=5, lead_symbol=\"MSFT\")\n",
    "rng"
   ]
  },
  {
   "cell_type": "code",
   "execution_count": 28,
   "metadata": {},
   "outputs": [
    {
     "data": {
      "text/plain": [
       "<DstTzInfo 'America/New_York' LMT-1 day, 19:04:00 STD>"
      ]
     },
     "execution_count": 28,
     "metadata": {},
     "output_type": "execute_result"
    }
   ],
   "source": [
    "rng.pt.tz"
   ]
  },
  {
   "cell_type": "code",
   "execution_count": 29,
   "metadata": {},
   "outputs": [
    {
     "data": {
      "text/plain": [
       "True"
      ]
     },
     "execution_count": 29,
     "metadata": {},
     "output_type": "execute_result"
    }
   ],
   "source": [
    "rng.pt.tz == prices.calendars[\"MSFT\"].tz"
   ]
  },
  {
   "cell_type": "markdown",
   "metadata": {},
   "source": [
    "`strict` can also be passed, with the sole effect of preventing an error from being raised if the period would otherwise start before the first day for which data is available."
   ]
  },
  {
   "cell_type": "code",
   "execution_count": 30,
   "metadata": {},
   "outputs": [
    {
     "data": {
      "text/plain": [
       "Timestamp('1986-03-06 00:00:00')"
      ]
     },
     "execution_count": 30,
     "metadata": {},
     "output_type": "execute_result"
    }
   ],
   "source": [
    "start_oob = prices.limit_daily - pd.Timedelta(7, \"D\")\n",
    "start_oob"
   ]
  },
  {
   "cell_type": "code",
   "execution_count": null,
   "metadata": {},
   "outputs": [],
   "source": [
    "prices.price_range(start_oob)"
   ]
  },
  {
   "cell_type": "markdown",
   "metadata": {},
   "source": [
    "```\n",
    "---------------------------------------------------------------------------\n",
    "StartTooEarlyError                        Traceback (most recent call last)\n",
    "<ipython-input-40-58a73eaabb9d> in <module>\n",
    "----> 1 prices.price_range(start_oob)\n",
    "\n",
    "StartTooEarlyError: Prices unavailable as start (1986-03-06) is earlier than the earliest session for which price data is available. The earliest session for which prices are available is 1986-03-13.\n",
    "```"
   ]
  },
  {
   "cell_type": "code",
   "execution_count": 32,
   "metadata": {},
   "outputs": [
    {
     "data": {
      "text/html": [
       "<div>\n",
       "<style scoped>\n",
       "    .dataframe tbody tr th:only-of-type {\n",
       "        vertical-align: middle;\n",
       "    }\n",
       "\n",
       "    .dataframe tbody tr th {\n",
       "        vertical-align: top;\n",
       "    }\n",
       "\n",
       "    .dataframe thead tr th {\n",
       "        text-align: left;\n",
       "    }\n",
       "</style>\n",
       "<table border=\"1\" class=\"dataframe\">\n",
       "  <thead>\n",
       "    <tr>\n",
       "      <th>symbol</th>\n",
       "      <th colspan=\"5\" halign=\"left\">MSFT</th>\n",
       "      <th colspan=\"5\" halign=\"left\">AZN.L</th>\n",
       "      <th colspan=\"5\" halign=\"left\">9988.HK</th>\n",
       "    </tr>\n",
       "    <tr>\n",
       "      <th></th>\n",
       "      <th>open</th>\n",
       "      <th>high</th>\n",
       "      <th>low</th>\n",
       "      <th>close</th>\n",
       "      <th>volume</th>\n",
       "      <th>open</th>\n",
       "      <th>high</th>\n",
       "      <th>low</th>\n",
       "      <th>close</th>\n",
       "      <th>volume</th>\n",
       "      <th>open</th>\n",
       "      <th>high</th>\n",
       "      <th>low</th>\n",
       "      <th>close</th>\n",
       "      <th>volume</th>\n",
       "    </tr>\n",
       "  </thead>\n",
       "  <tbody>\n",
       "    <tr>\n",
       "      <th>(1986-03-13 02:00:00, 2022-05-13 14:26:00]</th>\n",
       "      <td>0.088542</td>\n",
       "      <td>349.670013</td>\n",
       "      <td>0.088542</td>\n",
       "      <td>255.350006</td>\n",
       "      <td>5.347656e+11</td>\n",
       "      <td>600.322998</td>\n",
       "      <td>11000.0</td>\n",
       "      <td>580.580017</td>\n",
       "      <td>10250.0</td>\n",
       "      <td>2.641094e+10</td>\n",
       "      <td>187.0</td>\n",
       "      <td>309.399994</td>\n",
       "      <td>71.0</td>\n",
       "      <td>82.199997</td>\n",
       "      <td>1.875208e+10</td>\n",
       "    </tr>\n",
       "  </tbody>\n",
       "</table>\n",
       "</div>"
      ],
      "text/plain": [
       "symbol                                          MSFT                        \\\n",
       "                                                open        high       low   \n",
       "(1986-03-13 02:00:00, 2022-05-13 14:26:00]  0.088542  349.670013  0.088542   \n",
       "\n",
       "symbol                                                                \\\n",
       "                                                 close        volume   \n",
       "(1986-03-13 02:00:00, 2022-05-13 14:26:00]  255.350006  5.347656e+11   \n",
       "\n",
       "symbol                                           AZN.L                       \\\n",
       "                                                  open     high         low   \n",
       "(1986-03-13 02:00:00, 2022-05-13 14:26:00]  600.322998  11000.0  580.580017   \n",
       "\n",
       "symbol                                                            9988.HK  \\\n",
       "                                              close        volume    open   \n",
       "(1986-03-13 02:00:00, 2022-05-13 14:26:00]  10250.0  2.641094e+10   187.0   \n",
       "\n",
       "symbol                                                                   \\\n",
       "                                                  high   low      close   \n",
       "(1986-03-13 02:00:00, 2022-05-13 14:26:00]  309.399994  71.0  82.199997   \n",
       "\n",
       "symbol                                                    \n",
       "                                                  volume  \n",
       "(1986-03-13 02:00:00, 2022-05-13 14:26:00]  1.875208e+10  "
      ]
     },
     "execution_count": 32,
     "metadata": {},
     "output_type": "execute_result"
    }
   ],
   "source": [
    "prices.price_range(start_oob, strict=False)"
   ]
  },
  {
   "cell_type": "markdown",
   "metadata": {},
   "source": [
    "`stack` can be passed to stack the symbols to separate rows."
   ]
  },
  {
   "cell_type": "code",
   "execution_count": 33,
   "metadata": {},
   "outputs": [
    {
     "data": {
      "text/html": [
       "<div>\n",
       "<style scoped>\n",
       "    .dataframe tbody tr th:only-of-type {\n",
       "        vertical-align: middle;\n",
       "    }\n",
       "\n",
       "    .dataframe tbody tr th {\n",
       "        vertical-align: top;\n",
       "    }\n",
       "\n",
       "    .dataframe thead th {\n",
       "        text-align: right;\n",
       "    }\n",
       "</style>\n",
       "<table border=\"1\" class=\"dataframe\">\n",
       "  <thead>\n",
       "    <tr style=\"text-align: right;\">\n",
       "      <th></th>\n",
       "      <th></th>\n",
       "      <th>open</th>\n",
       "      <th>high</th>\n",
       "      <th>low</th>\n",
       "      <th>close</th>\n",
       "      <th>volume</th>\n",
       "    </tr>\n",
       "    <tr>\n",
       "      <th></th>\n",
       "      <th>symbol</th>\n",
       "      <th></th>\n",
       "      <th></th>\n",
       "      <th></th>\n",
       "      <th></th>\n",
       "      <th></th>\n",
       "    </tr>\n",
       "  </thead>\n",
       "  <tbody>\n",
       "    <tr>\n",
       "      <th rowspan=\"3\" valign=\"top\">(2021-01-04 01:30:00, 2021-12-31 21:00:00]</th>\n",
       "      <th>9988.HK</th>\n",
       "      <td>224.800003</td>\n",
       "      <td>270.000000</td>\n",
       "      <td>109.199997</td>\n",
       "      <td>118.900002</td>\n",
       "      <td>7.807695e+09</td>\n",
       "    </tr>\n",
       "    <tr>\n",
       "      <th>AZN.L</th>\n",
       "      <td>7425.000000</td>\n",
       "      <td>9523.000000</td>\n",
       "      <td>6499.799805</td>\n",
       "      <td>8678.000000</td>\n",
       "      <td>6.918552e+08</td>\n",
       "    </tr>\n",
       "    <tr>\n",
       "      <th>MSFT</th>\n",
       "      <td>222.529999</td>\n",
       "      <td>349.670013</td>\n",
       "      <td>211.940002</td>\n",
       "      <td>336.320007</td>\n",
       "      <td>6.555279e+09</td>\n",
       "    </tr>\n",
       "  </tbody>\n",
       "</table>\n",
       "</div>"
      ],
      "text/plain": [
       "                                                           open         high  \\\n",
       "                                           symbol                              \n",
       "(2021-01-04 01:30:00, 2021-12-31 21:00:00] 9988.HK   224.800003   270.000000   \n",
       "                                           AZN.L    7425.000000  9523.000000   \n",
       "                                           MSFT      222.529999   349.670013   \n",
       "\n",
       "                                                            low        close  \\\n",
       "                                           symbol                              \n",
       "(2021-01-04 01:30:00, 2021-12-31 21:00:00] 9988.HK   109.199997   118.900002   \n",
       "                                           AZN.L    6499.799805  8678.000000   \n",
       "                                           MSFT      211.940002   336.320007   \n",
       "\n",
       "                                                          volume  \n",
       "                                           symbol                 \n",
       "(2021-01-04 01:30:00, 2021-12-31 21:00:00] 9988.HK  7.807695e+09  \n",
       "                                           AZN.L    6.918552e+08  \n",
       "                                           MSFT     6.555279e+09  "
      ]
     },
     "execution_count": 33,
     "metadata": {},
     "output_type": "execute_result"
    }
   ],
   "source": [
    "prices.price_range(\"2021\", \"2021-12-31\", stack=True)"
   ]
  },
  {
   "cell_type": "markdown",
   "metadata": {},
   "source": [
    "And finally `include` and `exclude` can be passed with the same effect as for `get`."
   ]
  },
  {
   "cell_type": "code",
   "execution_count": 34,
   "metadata": {},
   "outputs": [
    {
     "data": {
      "text/html": [
       "<div>\n",
       "<style scoped>\n",
       "    .dataframe tbody tr th:only-of-type {\n",
       "        vertical-align: middle;\n",
       "    }\n",
       "\n",
       "    .dataframe tbody tr th {\n",
       "        vertical-align: top;\n",
       "    }\n",
       "\n",
       "    .dataframe thead tr th {\n",
       "        text-align: left;\n",
       "    }\n",
       "</style>\n",
       "<table border=\"1\" class=\"dataframe\">\n",
       "  <thead>\n",
       "    <tr>\n",
       "      <th>symbol</th>\n",
       "      <th colspan=\"5\" halign=\"left\">9988.HK</th>\n",
       "    </tr>\n",
       "    <tr>\n",
       "      <th></th>\n",
       "      <th>open</th>\n",
       "      <th>high</th>\n",
       "      <th>low</th>\n",
       "      <th>close</th>\n",
       "      <th>volume</th>\n",
       "    </tr>\n",
       "  </thead>\n",
       "  <tbody>\n",
       "    <tr>\n",
       "      <th>(2021-01-04 01:30:00, 2021-04-01 21:00:00]</th>\n",
       "      <td>224.800003</td>\n",
       "      <td>270.0</td>\n",
       "      <td>214.0</td>\n",
       "      <td>225.600006</td>\n",
       "      <td>2.090326e+09</td>\n",
       "    </tr>\n",
       "  </tbody>\n",
       "</table>\n",
       "</div>"
      ],
      "text/plain": [
       "symbol                                         9988.HK                \\\n",
       "                                                  open   high    low   \n",
       "(2021-01-04 01:30:00, 2021-04-01 21:00:00]  224.800003  270.0  214.0   \n",
       "\n",
       "symbol                                                                \n",
       "                                                 close        volume  \n",
       "(2021-01-04 01:30:00, 2021-04-01 21:00:00]  225.600006  2.090326e+09  "
      ]
     },
     "execution_count": 34,
     "metadata": {},
     "output_type": "execute_result"
    }
   ],
   "source": [
    "prices.price_range(\"2021\", months=3, include=\"9988.HK\")"
   ]
  },
  {
   "cell_type": "code",
   "execution_count": 35,
   "metadata": {},
   "outputs": [
    {
     "data": {
      "text/html": [
       "<div>\n",
       "<style scoped>\n",
       "    .dataframe tbody tr th:only-of-type {\n",
       "        vertical-align: middle;\n",
       "    }\n",
       "\n",
       "    .dataframe tbody tr th {\n",
       "        vertical-align: top;\n",
       "    }\n",
       "\n",
       "    .dataframe thead tr th {\n",
       "        text-align: left;\n",
       "    }\n",
       "</style>\n",
       "<table border=\"1\" class=\"dataframe\">\n",
       "  <thead>\n",
       "    <tr>\n",
       "      <th>symbol</th>\n",
       "      <th colspan=\"5\" halign=\"left\">9988.HK</th>\n",
       "    </tr>\n",
       "    <tr>\n",
       "      <th></th>\n",
       "      <th>open</th>\n",
       "      <th>high</th>\n",
       "      <th>low</th>\n",
       "      <th>close</th>\n",
       "      <th>volume</th>\n",
       "    </tr>\n",
       "  </thead>\n",
       "  <tbody>\n",
       "    <tr>\n",
       "      <th>(2022-05-06 14:15:00, 2022-05-13 14:15:00]</th>\n",
       "      <td>83.599998</td>\n",
       "      <td>87.949997</td>\n",
       "      <td>79.800003</td>\n",
       "      <td>82.199997</td>\n",
       "      <td>200227610.0</td>\n",
       "    </tr>\n",
       "  </tbody>\n",
       "</table>\n",
       "</div>"
      ],
      "text/plain": [
       "symbol                                        9988.HK                        \\\n",
       "                                                 open       high        low   \n",
       "(2022-05-06 14:15:00, 2022-05-13 14:15:00]  83.599998  87.949997  79.800003   \n",
       "\n",
       "symbol                                                              \n",
       "                                                close       volume  \n",
       "(2022-05-06 14:15:00, 2022-05-13 14:15:00]  82.199997  200227610.0  "
      ]
     },
     "execution_count": 35,
     "metadata": {},
     "output_type": "execute_result"
    }
   ],
   "source": [
    "prices.price_range(days=5, exclude=[\"MSFT\", \"AZN.L\"])"
   ]
  }
 ],
 "metadata": {
  "kernelspec": {
   "display_name": "mkt_prices 3.8.2",
   "language": "python",
   "name": "mkt_prices"
  },
  "language_info": {
   "codemirror_mode": {
    "name": "ipython",
    "version": 3
   },
   "file_extension": ".py",
   "mimetype": "text/x-python",
   "name": "python",
   "nbconvert_exporter": "python",
   "pygments_lexer": "ipython3",
   "version": "3.8.2"
  },
  "widgets": {
   "application/vnd.jupyter.widget-state+json": {
    "state": {},
    "version_major": 2,
    "version_minor": 0
   }
  }
 },
 "nbformat": 4,
 "nbformat_minor": 4
}
