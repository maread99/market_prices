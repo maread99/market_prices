{
 "cells": [
  {
   "cell_type": "markdown",
   "metadata": {},
   "source": [
    "# Prices tutorial"
   ]
  },
  {
   "cell_type": "markdown",
   "metadata": {},
   "source": [
    "#### Sections\n",
    "* [PricesYahoo](#PricesYahoo)\n",
    "* [Symbols](#Symbols)\n",
    "* [Calendars](#Calendars)\n",
    "    * [`lead_symbol`](#lead_symbol)\n",
    "    * [`calendars`](#calendars)\n",
    "* [`delays`](#delays)"
   ]
  },
  {
   "cell_type": "markdown",
   "metadata": {},
   "source": [
    "#### Notes\n",
    "* The cell **outputs** shown in this tutorial are based on executing the cells at **2022-05-12 16:44 UTC**. Simply rerun the cells to bring any dynamic output up to date."
   ]
  },
  {
   "cell_type": "markdown",
   "metadata": {},
   "source": [
    "### Setup\n",
    "Run following cell to import tutorial dependencies"
   ]
  },
  {
   "cell_type": "code",
   "execution_count": 2,
   "metadata": {},
   "outputs": [],
   "source": [
    "import pytz"
   ]
  },
  {
   "cell_type": "markdown",
   "metadata": {},
   "source": [
    "## PricesYahoo"
   ]
  },
  {
   "cell_type": "markdown",
   "metadata": {},
   "source": [
    "`market_prices` uses Prices classes to access price data. The default `PricesYahoo` class provides for getting price data 'out-the-box' from Yahoo APIs (see [disclaimers](../../README.md) section of README.md) via yahooquery."
   ]
  },
  {
   "cell_type": "code",
   "execution_count": 3,
   "metadata": {},
   "outputs": [],
   "source": [
    "from market_prices import PricesYahoo"
   ]
  },
  {
   "cell_type": "markdown",
   "metadata": {},
   "source": [
    "## Symbols"
   ]
  },
  {
   "cell_type": "markdown",
   "metadata": {},
   "source": [
    "The `PricesYahoo` class requires a single argument to define the symbols for which price data is to be requested. The symbols can be defined as a list of strings or a single comma-delimited string."
   ]
  },
  {
   "cell_type": "code",
   "execution_count": 4,
   "metadata": {},
   "outputs": [
    {
     "data": {
      "text/plain": [
       "['MSFT', 'GOOG']"
      ]
     },
     "execution_count": 4,
     "metadata": {},
     "output_type": "execute_result"
    }
   ],
   "source": [
    "symbols = \"MSFT, GOOG\"\n",
    "prices = PricesYahoo(symbols)\n",
    "prices.symbols"
   ]
  },
  {
   "cell_type": "markdown",
   "metadata": {},
   "source": [
    "Prices are available for any symbol for which price data is available on [yahoo finance](https://uk.finance.yahoo.com/), for example..."
   ]
  },
  {
   "cell_type": "code",
   "execution_count": 6,
   "metadata": {},
   "outputs": [],
   "source": [
    "# Note: this cell might take a little while to execute (10 seconds maybe)\n",
    "# given the number of different exchange calendars that will be created.\n",
    "symbols = [\n",
    "    \"MSFT\",  # us stock\n",
    "    \"AZN.L\",  # uk stock\n",
    "    \"9988.HK\",  # hong kong stock\n",
    "    \"PETR3.SA\",  # brazilan stock\n",
    "    \"^FTSE\",  # equity index\n",
    "    \"ES=F\",  # futures\n",
    "    \"CL=F\",  # oil\n",
    "    \"GC=F\",  # gold\n",
    "    \"GBPEUR=X\",  # currency pair\n",
    "    \"BTC-USD\",  # crypto\n",
    "]\n",
    "prices = PricesYahoo(symbols, lead_symbol=\"9988.HK\")"
   ]
  },
  {
   "cell_type": "code",
   "execution_count": 7,
   "metadata": {},
   "outputs": [
    {
     "data": {
      "text/html": [
       "<div>\n",
       "<style scoped>\n",
       "    .dataframe tbody tr th:only-of-type {\n",
       "        vertical-align: middle;\n",
       "    }\n",
       "\n",
       "    .dataframe tbody tr th {\n",
       "        vertical-align: top;\n",
       "    }\n",
       "\n",
       "    .dataframe thead tr th {\n",
       "        text-align: left;\n",
       "    }\n",
       "</style>\n",
       "<table border=\"1\" class=\"dataframe\">\n",
       "  <thead>\n",
       "    <tr>\n",
       "      <th>symbol</th>\n",
       "      <th colspan=\"5\" halign=\"left\">9988.HK</th>\n",
       "      <th colspan=\"5\" halign=\"left\">AZN.L</th>\n",
       "      <th>...</th>\n",
       "      <th colspan=\"5\" halign=\"left\">PETR3.SA</th>\n",
       "      <th colspan=\"5\" halign=\"left\">^FTSE</th>\n",
       "    </tr>\n",
       "    <tr>\n",
       "      <th></th>\n",
       "      <th>close</th>\n",
       "      <th>high</th>\n",
       "      <th>low</th>\n",
       "      <th>open</th>\n",
       "      <th>volume</th>\n",
       "      <th>close</th>\n",
       "      <th>high</th>\n",
       "      <th>low</th>\n",
       "      <th>open</th>\n",
       "      <th>volume</th>\n",
       "      <th>...</th>\n",
       "      <th>close</th>\n",
       "      <th>high</th>\n",
       "      <th>low</th>\n",
       "      <th>open</th>\n",
       "      <th>volume</th>\n",
       "      <th>close</th>\n",
       "      <th>high</th>\n",
       "      <th>low</th>\n",
       "      <th>open</th>\n",
       "      <th>volume</th>\n",
       "    </tr>\n",
       "  </thead>\n",
       "  <tbody>\n",
       "    <tr>\n",
       "      <th>[2022-05-12 07:30:00, 2022-05-12 07:40:00)</th>\n",
       "      <td>80.000000</td>\n",
       "      <td>80.300003</td>\n",
       "      <td>79.900002</td>\n",
       "      <td>80.199997</td>\n",
       "      <td>2499259.0</td>\n",
       "      <td>9801.0</td>\n",
       "      <td>9821.0</td>\n",
       "      <td>9785.0</td>\n",
       "      <td>9799.0</td>\n",
       "      <td>55810.0</td>\n",
       "      <td>...</td>\n",
       "      <td>NaN</td>\n",
       "      <td>NaN</td>\n",
       "      <td>NaN</td>\n",
       "      <td>NaN</td>\n",
       "      <td>NaN</td>\n",
       "      <td>7181.529785</td>\n",
       "      <td>7194.009766</td>\n",
       "      <td>7171.970215</td>\n",
       "      <td>7191.529785</td>\n",
       "      <td>0.0</td>\n",
       "    </tr>\n",
       "    <tr>\n",
       "      <th>[2022-05-12 07:40:00, 2022-05-12 07:50:00)</th>\n",
       "      <td>80.300003</td>\n",
       "      <td>80.349998</td>\n",
       "      <td>79.949997</td>\n",
       "      <td>80.000000</td>\n",
       "      <td>2462802.0</td>\n",
       "      <td>9862.0</td>\n",
       "      <td>9862.0</td>\n",
       "      <td>9794.0</td>\n",
       "      <td>9799.0</td>\n",
       "      <td>39472.0</td>\n",
       "      <td>...</td>\n",
       "      <td>NaN</td>\n",
       "      <td>NaN</td>\n",
       "      <td>NaN</td>\n",
       "      <td>NaN</td>\n",
       "      <td>NaN</td>\n",
       "      <td>7220.209961</td>\n",
       "      <td>7220.770020</td>\n",
       "      <td>7176.339844</td>\n",
       "      <td>7181.540039</td>\n",
       "      <td>0.0</td>\n",
       "    </tr>\n",
       "    <tr>\n",
       "      <th>[2022-05-12 07:50:00, 2022-05-12 08:00:00)</th>\n",
       "      <td>79.949997</td>\n",
       "      <td>80.449997</td>\n",
       "      <td>79.800003</td>\n",
       "      <td>80.349998</td>\n",
       "      <td>2616271.0</td>\n",
       "      <td>9824.0</td>\n",
       "      <td>9866.0</td>\n",
       "      <td>9822.0</td>\n",
       "      <td>9863.0</td>\n",
       "      <td>39555.0</td>\n",
       "      <td>...</td>\n",
       "      <td>NaN</td>\n",
       "      <td>NaN</td>\n",
       "      <td>NaN</td>\n",
       "      <td>NaN</td>\n",
       "      <td>NaN</td>\n",
       "      <td>7208.950195</td>\n",
       "      <td>7221.839844</td>\n",
       "      <td>7204.810059</td>\n",
       "      <td>7220.169922</td>\n",
       "      <td>0.0</td>\n",
       "    </tr>\n",
       "  </tbody>\n",
       "</table>\n",
       "<p>3 rows × 50 columns</p>\n",
       "</div>"
      ],
      "text/plain": [
       "symbol                                        9988.HK                        \\\n",
       "                                                close       high        low   \n",
       "[2022-05-12 07:30:00, 2022-05-12 07:40:00)  80.000000  80.300003  79.900002   \n",
       "[2022-05-12 07:40:00, 2022-05-12 07:50:00)  80.300003  80.349998  79.949997   \n",
       "[2022-05-12 07:50:00, 2022-05-12 08:00:00)  79.949997  80.449997  79.800003   \n",
       "\n",
       "symbol                                                             AZN.L  \\\n",
       "                                                 open     volume   close   \n",
       "[2022-05-12 07:30:00, 2022-05-12 07:40:00)  80.199997  2499259.0  9801.0   \n",
       "[2022-05-12 07:40:00, 2022-05-12 07:50:00)  80.000000  2462802.0  9862.0   \n",
       "[2022-05-12 07:50:00, 2022-05-12 08:00:00)  80.349998  2616271.0  9824.0   \n",
       "\n",
       "symbol                                                                       \\\n",
       "                                              high     low    open   volume   \n",
       "[2022-05-12 07:30:00, 2022-05-12 07:40:00)  9821.0  9785.0  9799.0  55810.0   \n",
       "[2022-05-12 07:40:00, 2022-05-12 07:50:00)  9862.0  9794.0  9799.0  39472.0   \n",
       "[2022-05-12 07:50:00, 2022-05-12 08:00:00)  9866.0  9822.0  9863.0  39555.0   \n",
       "\n",
       "symbol                                      ... PETR3.SA                       \\\n",
       "                                            ...    close high low open volume   \n",
       "[2022-05-12 07:30:00, 2022-05-12 07:40:00)  ...      NaN  NaN NaN  NaN    NaN   \n",
       "[2022-05-12 07:40:00, 2022-05-12 07:50:00)  ...      NaN  NaN NaN  NaN    NaN   \n",
       "[2022-05-12 07:50:00, 2022-05-12 08:00:00)  ...      NaN  NaN NaN  NaN    NaN   \n",
       "\n",
       "symbol                                            ^FTSE               \\\n",
       "                                                  close         high   \n",
       "[2022-05-12 07:30:00, 2022-05-12 07:40:00)  7181.529785  7194.009766   \n",
       "[2022-05-12 07:40:00, 2022-05-12 07:50:00)  7220.209961  7220.770020   \n",
       "[2022-05-12 07:50:00, 2022-05-12 08:00:00)  7208.950195  7221.839844   \n",
       "\n",
       "symbol                                                                       \n",
       "                                                    low         open volume  \n",
       "[2022-05-12 07:30:00, 2022-05-12 07:40:00)  7171.970215  7191.529785    0.0  \n",
       "[2022-05-12 07:40:00, 2022-05-12 07:50:00)  7176.339844  7181.540039    0.0  \n",
       "[2022-05-12 07:50:00, 2022-05-12 08:00:00)  7204.810059  7220.169922    0.0  \n",
       "\n",
       "[3 rows x 50 columns]"
      ]
     },
     "execution_count": 7,
     "metadata": {},
     "output_type": "execute_result"
    }
   ],
   "source": [
    "# last 30 mins of data at 10min intervals\n",
    "prices.get(\"10min\", minutes=30, tzout=pytz.UTC)"
   ]
  },
  {
   "cell_type": "markdown",
   "metadata": {},
   "source": [
    "Note that prices will show as missing for any instruments not trading over the requested period."
   ]
  },
  {
   "cell_type": "markdown",
   "metadata": {},
   "source": [
    "## Calendars"
   ]
  },
  {
   "cell_type": "markdown",
   "metadata": {},
   "source": [
    "In order to evaluate the period over which data has been requested, `market_prices` requires that each symbol is associated with an exchange calendar of the library `exchange_calendars`. (See the [exchange_calendars](https://github.com/gerrymanoim/exchange_calendars) library for tutorials dedicated to exchange calendars.)\n",
    "\n",
    "`PricesYahoo` will by default attempt to match each symbol with the exchange calendar that best reflects the symbol's trading times."
   ]
  },
  {
   "cell_type": "code",
   "execution_count": 8,
   "metadata": {},
   "outputs": [
    {
     "data": {
      "text/plain": [
       "{'MSFT': <exchange_calendars.exchange_calendar_xnys.XNYSExchangeCalendar at 0x1cff73d5400>,\n",
       " 'AZN.L': <exchange_calendars.exchange_calendar_xlon.XLONExchangeCalendar at 0x1cf8a964af0>,\n",
       " '9988.HK': <exchange_calendars.exchange_calendar_xhkg.XHKGExchangeCalendar at 0x1cf8a964460>,\n",
       " 'PETR3.SA': <exchange_calendars.exchange_calendar_bvmf.BVMFExchangeCalendar at 0x1cf8e30b400>,\n",
       " '^FTSE': <exchange_calendars.exchange_calendar_xlon.XLONExchangeCalendar at 0x1cf8a964af0>,\n",
       " 'ES=F': <exchange_calendars.exchange_calendar_cmes.CMESExchangeCalendar at 0x1cf8e2f6310>,\n",
       " 'CL=F': <exchange_calendars.us_futures_calendar.QuantopianUSFuturesCalendar at 0x1cf8a988f40>,\n",
       " 'GC=F': <exchange_calendars.exchange_calendar_cmes.CMESExchangeCalendar at 0x1cf8e2f6310>,\n",
       " 'GBPEUR=X': <exchange_calendars.weekday_calendar.WeekdayCalendar at 0x1cf8a988850>,\n",
       " 'BTC-USD': <exchange_calendars.always_open.AlwaysOpenCalendar at 0x1cf8a990880>}"
      ]
     },
     "execution_count": 8,
     "metadata": {},
     "output_type": "execute_result"
    }
   ],
   "source": [
    "prices.calendars"
   ]
  },
  {
   "cell_type": "markdown",
   "metadata": {},
   "source": [
    "By default, requested periods are evaluated against the most common calendar (or if there is no single most common calendar then the calendar associated with the first symbol passed that's associated with one of the most common calendars).\n",
    "\n",
    "### `lead_symbol`\n",
    "\n",
    "Alternatively, the default calendar can be set by passing the `lead_symbol` option to the Prices class. This will set the default calendar to the calendar associated with the passed symbol. In the example above `lead_symbol` was passed as '9988.HK', which is the symbol for Alibaba's Hong Kong listing."
   ]
  },
  {
   "cell_type": "code",
   "execution_count": 9,
   "metadata": {},
   "outputs": [
    {
     "data": {
      "text/plain": [
       "<exchange_calendars.exchange_calendar_xhkg.XHKGExchangeCalendar at 0x1cf8a964460>"
      ]
     },
     "execution_count": 9,
     "metadata": {},
     "output_type": "execute_result"
    }
   ],
   "source": [
    "prices.calendar_default"
   ]
  },
  {
   "cell_type": "markdown",
   "metadata": {},
   "source": [
    "The period over which prices were returned was therefore evaluated as the last 30 minutes over which the Hong Kong exchange was open.\n",
    "\n",
    "Note: the lead symbol can be overriden for any particular call to `get`. The following example has the same arguments as earlier although passes `lead_symbol` as the symbol for Bitcoin. Bitcoin trades 24/7, hence the returned prices reflect the 30 minutes to the end of the current 'live indice' (times are UTC)."
   ]
  },
  {
   "cell_type": "code",
   "execution_count": 10,
   "metadata": {},
   "outputs": [
    {
     "data": {
      "text/html": [
       "<div>\n",
       "<style scoped>\n",
       "    .dataframe tbody tr th:only-of-type {\n",
       "        vertical-align: middle;\n",
       "    }\n",
       "\n",
       "    .dataframe tbody tr th {\n",
       "        vertical-align: top;\n",
       "    }\n",
       "\n",
       "    .dataframe thead tr th {\n",
       "        text-align: left;\n",
       "    }\n",
       "</style>\n",
       "<table border=\"1\" class=\"dataframe\">\n",
       "  <thead>\n",
       "    <tr>\n",
       "      <th>symbol</th>\n",
       "      <th colspan=\"5\" halign=\"left\">9988.HK</th>\n",
       "      <th colspan=\"5\" halign=\"left\">AZN.L</th>\n",
       "      <th>...</th>\n",
       "      <th colspan=\"5\" halign=\"left\">PETR3.SA</th>\n",
       "      <th colspan=\"5\" halign=\"left\">^FTSE</th>\n",
       "    </tr>\n",
       "    <tr>\n",
       "      <th></th>\n",
       "      <th>close</th>\n",
       "      <th>high</th>\n",
       "      <th>low</th>\n",
       "      <th>open</th>\n",
       "      <th>volume</th>\n",
       "      <th>close</th>\n",
       "      <th>high</th>\n",
       "      <th>low</th>\n",
       "      <th>open</th>\n",
       "      <th>volume</th>\n",
       "      <th>...</th>\n",
       "      <th>close</th>\n",
       "      <th>high</th>\n",
       "      <th>low</th>\n",
       "      <th>open</th>\n",
       "      <th>volume</th>\n",
       "      <th>close</th>\n",
       "      <th>high</th>\n",
       "      <th>low</th>\n",
       "      <th>open</th>\n",
       "      <th>volume</th>\n",
       "    </tr>\n",
       "  </thead>\n",
       "  <tbody>\n",
       "    <tr>\n",
       "      <th>[2022-05-12 16:20:00, 2022-05-12 16:30:00)</th>\n",
       "      <td>NaN</td>\n",
       "      <td>NaN</td>\n",
       "      <td>NaN</td>\n",
       "      <td>NaN</td>\n",
       "      <td>NaN</td>\n",
       "      <td>NaN</td>\n",
       "      <td>NaN</td>\n",
       "      <td>NaN</td>\n",
       "      <td>NaN</td>\n",
       "      <td>NaN</td>\n",
       "      <td>...</td>\n",
       "      <td>36.419998</td>\n",
       "      <td>36.450001</td>\n",
       "      <td>36.250000</td>\n",
       "      <td>36.270000</td>\n",
       "      <td>220200.0</td>\n",
       "      <td>NaN</td>\n",
       "      <td>NaN</td>\n",
       "      <td>NaN</td>\n",
       "      <td>NaN</td>\n",
       "      <td>NaN</td>\n",
       "    </tr>\n",
       "    <tr>\n",
       "      <th>[2022-05-12 16:30:00, 2022-05-12 16:40:00)</th>\n",
       "      <td>NaN</td>\n",
       "      <td>NaN</td>\n",
       "      <td>NaN</td>\n",
       "      <td>NaN</td>\n",
       "      <td>NaN</td>\n",
       "      <td>NaN</td>\n",
       "      <td>NaN</td>\n",
       "      <td>NaN</td>\n",
       "      <td>NaN</td>\n",
       "      <td>NaN</td>\n",
       "      <td>...</td>\n",
       "      <td>36.419998</td>\n",
       "      <td>36.419998</td>\n",
       "      <td>36.419998</td>\n",
       "      <td>36.419998</td>\n",
       "      <td>0.0</td>\n",
       "      <td>NaN</td>\n",
       "      <td>NaN</td>\n",
       "      <td>NaN</td>\n",
       "      <td>NaN</td>\n",
       "      <td>NaN</td>\n",
       "    </tr>\n",
       "    <tr>\n",
       "      <th>[2022-05-12 16:40:00, 2022-05-12 16:50:00)</th>\n",
       "      <td>NaN</td>\n",
       "      <td>NaN</td>\n",
       "      <td>NaN</td>\n",
       "      <td>NaN</td>\n",
       "      <td>NaN</td>\n",
       "      <td>NaN</td>\n",
       "      <td>NaN</td>\n",
       "      <td>NaN</td>\n",
       "      <td>NaN</td>\n",
       "      <td>NaN</td>\n",
       "      <td>...</td>\n",
       "      <td>36.419998</td>\n",
       "      <td>36.419998</td>\n",
       "      <td>36.419998</td>\n",
       "      <td>36.419998</td>\n",
       "      <td>0.0</td>\n",
       "      <td>NaN</td>\n",
       "      <td>NaN</td>\n",
       "      <td>NaN</td>\n",
       "      <td>NaN</td>\n",
       "      <td>NaN</td>\n",
       "    </tr>\n",
       "  </tbody>\n",
       "</table>\n",
       "<p>3 rows × 50 columns</p>\n",
       "</div>"
      ],
      "text/plain": [
       "symbol                                     9988.HK                      AZN.L  \\\n",
       "                                             close high low open volume close   \n",
       "[2022-05-12 16:20:00, 2022-05-12 16:30:00)     NaN  NaN NaN  NaN    NaN   NaN   \n",
       "[2022-05-12 16:30:00, 2022-05-12 16:40:00)     NaN  NaN NaN  NaN    NaN   NaN   \n",
       "[2022-05-12 16:40:00, 2022-05-12 16:50:00)     NaN  NaN NaN  NaN    NaN   NaN   \n",
       "\n",
       "symbol                                                           ...  \\\n",
       "                                           high low open volume  ...   \n",
       "[2022-05-12 16:20:00, 2022-05-12 16:30:00)  NaN NaN  NaN    NaN  ...   \n",
       "[2022-05-12 16:30:00, 2022-05-12 16:40:00)  NaN NaN  NaN    NaN  ...   \n",
       "[2022-05-12 16:40:00, 2022-05-12 16:50:00)  NaN NaN  NaN    NaN  ...   \n",
       "\n",
       "symbol                                       PETR3.SA                        \\\n",
       "                                                close       high        low   \n",
       "[2022-05-12 16:20:00, 2022-05-12 16:30:00)  36.419998  36.450001  36.250000   \n",
       "[2022-05-12 16:30:00, 2022-05-12 16:40:00)  36.419998  36.419998  36.419998   \n",
       "[2022-05-12 16:40:00, 2022-05-12 16:50:00)  36.419998  36.419998  36.419998   \n",
       "\n",
       "symbol                                                          ^FTSE       \\\n",
       "                                                 open    volume close high   \n",
       "[2022-05-12 16:20:00, 2022-05-12 16:30:00)  36.270000  220200.0   NaN  NaN   \n",
       "[2022-05-12 16:30:00, 2022-05-12 16:40:00)  36.419998       0.0   NaN  NaN   \n",
       "[2022-05-12 16:40:00, 2022-05-12 16:50:00)  36.419998       0.0   NaN  NaN   \n",
       "\n",
       "symbol                                                      \n",
       "                                           low open volume  \n",
       "[2022-05-12 16:20:00, 2022-05-12 16:30:00) NaN  NaN    NaN  \n",
       "[2022-05-12 16:30:00, 2022-05-12 16:40:00) NaN  NaN    NaN  \n",
       "[2022-05-12 16:40:00, 2022-05-12 16:50:00) NaN  NaN    NaN  \n",
       "\n",
       "[3 rows x 50 columns]"
      ]
     },
     "execution_count": 10,
     "metadata": {},
     "output_type": "execute_result"
    }
   ],
   "source": [
    "df = prices.get(\"10min\", minutes=30, tzout=pytz.UTC, lead_symbol='BTC-USD')\n",
    "df"
   ]
  },
  {
   "cell_type": "code",
   "execution_count": 11,
   "metadata": {},
   "outputs": [
    {
     "data": {
      "text/html": [
       "<div>\n",
       "<style scoped>\n",
       "    .dataframe tbody tr th:only-of-type {\n",
       "        vertical-align: middle;\n",
       "    }\n",
       "\n",
       "    .dataframe tbody tr th {\n",
       "        vertical-align: top;\n",
       "    }\n",
       "\n",
       "    .dataframe thead th {\n",
       "        text-align: right;\n",
       "    }\n",
       "</style>\n",
       "<table border=\"1\" class=\"dataframe\">\n",
       "  <thead>\n",
       "    <tr style=\"text-align: right;\">\n",
       "      <th></th>\n",
       "      <th>close</th>\n",
       "      <th>high</th>\n",
       "      <th>low</th>\n",
       "      <th>open</th>\n",
       "      <th>volume</th>\n",
       "    </tr>\n",
       "  </thead>\n",
       "  <tbody>\n",
       "    <tr>\n",
       "      <th>[2022-05-12 16:20:00, 2022-05-12 16:30:00)</th>\n",
       "      <td>29590.166016</td>\n",
       "      <td>29590.166016</td>\n",
       "      <td>29187.529297</td>\n",
       "      <td>29187.529297</td>\n",
       "      <td>673996800.0</td>\n",
       "    </tr>\n",
       "    <tr>\n",
       "      <th>[2022-05-12 16:30:00, 2022-05-12 16:40:00)</th>\n",
       "      <td>29686.349609</td>\n",
       "      <td>29761.673828</td>\n",
       "      <td>29546.121094</td>\n",
       "      <td>29546.121094</td>\n",
       "      <td>777789440.0</td>\n",
       "    </tr>\n",
       "    <tr>\n",
       "      <th>[2022-05-12 16:40:00, 2022-05-12 16:50:00)</th>\n",
       "      <td>29537.708984</td>\n",
       "      <td>29617.484375</td>\n",
       "      <td>29537.708984</td>\n",
       "      <td>29617.484375</td>\n",
       "      <td>0.0</td>\n",
       "    </tr>\n",
       "  </tbody>\n",
       "</table>\n",
       "</div>"
      ],
      "text/plain": [
       "                                                   close          high  \\\n",
       "[2022-05-12 16:20:00, 2022-05-12 16:30:00)  29590.166016  29590.166016   \n",
       "[2022-05-12 16:30:00, 2022-05-12 16:40:00)  29686.349609  29761.673828   \n",
       "[2022-05-12 16:40:00, 2022-05-12 16:50:00)  29537.708984  29617.484375   \n",
       "\n",
       "                                                     low          open  \\\n",
       "[2022-05-12 16:20:00, 2022-05-12 16:30:00)  29187.529297  29187.529297   \n",
       "[2022-05-12 16:30:00, 2022-05-12 16:40:00)  29546.121094  29546.121094   \n",
       "[2022-05-12 16:40:00, 2022-05-12 16:50:00)  29537.708984  29617.484375   \n",
       "\n",
       "                                                 volume  \n",
       "[2022-05-12 16:20:00, 2022-05-12 16:30:00)  673996800.0  \n",
       "[2022-05-12 16:30:00, 2022-05-12 16:40:00)  777789440.0  \n",
       "[2022-05-12 16:40:00, 2022-05-12 16:50:00)          0.0  "
      ]
     },
     "execution_count": 11,
     "metadata": {},
     "output_type": "execute_result"
    }
   ],
   "source": [
    "df[\"BTC-USD\"]"
   ]
  },
  {
   "cell_type": "markdown",
   "metadata": {},
   "source": [
    "(See the [periods tutorial](./periods.ipynp) tutorial for an explanation of how the requested period is evaluated.)"
   ]
  },
  {
   "cell_type": "markdown",
   "metadata": {},
   "source": [
    "### `calendars`\n",
    "\n",
    "If a calendar cannot be ascertained for a symbol then a `CalendarError` is raised. In this case it's necessary to manually assign calendars to those symbols for which a calendar cannot be ascertained. This is done by passing the `calendars` option to the Prices class. The `calendars` option can also be passed to override, for any symbol(s), the default calendar(s) that would otherwise be assigned.\n",
    "\n",
    "`calendars` can take an `ExchangeCalendar`, a `list` or a `dict`, as described by the `PricesYahoo` class documentation (see final cell of this tutorial)."
   ]
  },
  {
   "cell_type": "markdown",
   "metadata": {},
   "source": [
    "## `delays`"
   ]
  },
  {
   "cell_type": "markdown",
   "metadata": {},
   "source": [
    "For each symbol `market_prices` also requires knowledge of any real-time delay in the price data (this is in order to evaluate periods to 'now').\n",
    "\n",
    "By default, PricesYahoo attempts to evaluate the delay for each symbol via fields made available by the Yahoo API and some hardcoded mappings. A `ValueError` is raised if a delay cannot be ascertained for a symbol. In this case it's necessary to manually assign a delay via the `delays` kwarg. `delays` can also be passed to override the default delay that would otherwise be assigned to a specific symbol or symbols.\n",
    "\n",
    "(NB an inaccurately evaluated delay can have the effect that the latest real-time prices 'stick' rather than update on further requests, or that data is unavailable at the most recent time for which it would be expected to be available.)\n",
    "\n",
    "`delays` can take an `int`, a `list` or a `dict`, as described by the `PricesYahoo` class documentation..."
   ]
  },
  {
   "cell_type": "code",
   "execution_count": null,
   "metadata": {},
   "outputs": [],
   "source": [
    "# or PricesYahoo?\n",
    "help(PricesYahoo)"
   ]
  }
 ],
 "metadata": {
  "kernelspec": {
   "display_name": "Python38 mkt_prices_venv",
   "language": "python",
   "name": "38mp_venv"
  },
  "language_info": {
   "codemirror_mode": {
    "name": "ipython",
    "version": 3
   },
   "file_extension": ".py",
   "mimetype": "text/x-python",
   "name": "python",
   "nbconvert_exporter": "python",
   "pygments_lexer": "ipython3",
   "version": "3.8.10"
  },
  "widgets": {
   "application/vnd.jupyter.widget-state+json": {
    "state": {},
    "version_major": 2,
    "version_minor": 0
   }
  }
 },
 "nbformat": 4,
 "nbformat_minor": 4
}
