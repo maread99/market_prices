{
 "cells": [
  {
   "cell_type": "markdown",
   "metadata": {},
   "source": [
    "# Other Prices methods tutorial"
   ]
  },
  {
   "cell_type": "markdown",
   "metadata": {},
   "source": [
    "#### Sections\n",
    "* [`request_all_prices`](#request_all_prices)\n",
    "* [`prices_for_symbols`](#prices_for_symbols)"
   ]
  },
  {
   "cell_type": "markdown",
   "metadata": {},
   "source": [
    "#### Note\n",
    "\n",
    "The cell **outputs** shown in this tutorial are based on executing the cells at the time shown in the output of the following cell. Simply rerun the cells to bring any dynamic output up to date."
   ]
  },
  {
   "cell_type": "code",
   "execution_count": 2,
   "metadata": {},
   "outputs": [
    {
     "name": "stdout",
     "output_type": "stream",
     "text": [
      "Timestamp('2022-05-13 13:40:00+0000', tz='UTC')\n",
      "Timestamp('2022-05-13 09:40:00-0400', tz='America/New_York')\n"
     ]
    }
   ],
   "source": [
    "import pandas as pd\n",
    "from zoneinfo import ZoneInfo\n",
    "now = pd.Timestamp.now(tz=ZoneInfo(\"UTC\")).floor(\"T\")\n",
    "print(f\"{now!r}\")\n",
    "print(f\"{now.astimezone(ZoneInfo('America/New_York'))!r}\")"
   ]
  },
  {
   "cell_type": "markdown",
   "metadata": {},
   "source": [
    "## Setup"
   ]
  },
  {
   "cell_type": "markdown",
   "metadata": {},
   "source": [
    "Run the following cell to import tutorial dependencies."
   ]
  },
  {
   "cell_type": "code",
   "execution_count": 3,
   "metadata": {},
   "outputs": [],
   "source": [
    "from market_prices import PricesYahoo\n",
    "from market_prices.support import tutorial_helpers as th\n",
    "from market_prices import helpers"
   ]
  },
  {
   "cell_type": "markdown",
   "metadata": {},
   "source": [
    "Execute the following cell to define a `PricesYahoo` instance and a few variables that will be used to demonstrate the methods covered by this tutorial."
   ]
  },
  {
   "cell_type": "code",
   "execution_count": 4,
   "metadata": {},
   "outputs": [],
   "source": [
    "prices = PricesYahoo(\"MSFT, AZN.L, 9988.HK\", lead_symbol=\"MSFT\")\n",
    "xnys = prices.calendars[\"MSFT\"]\n",
    "xhkg = prices.calendars[\"9988.HK\"]\n",
    "xlon = prices.calendars[\"AZN.L\"]\n",
    "\n",
    "H1_start, H1_end = th.get_sessions_range_for_bi(prices, prices.bis.H1)"
   ]
  },
  {
   "cell_type": "markdown",
   "metadata": {},
   "source": [
    "## `request_all_prices`\n",
    "\n",
    "Calling the Prices instance's `request_all_data` method will result in **all** currently available data being requested and stored locally. Consequently, further requests to the data provider will be limited to any 'live' prices that may have since changed or become available.\n",
    "\n",
    "The method returns a dictionary that expresses, by base interval, the range over which prices are now stored locally."
   ]
  },
  {
   "cell_type": "code",
   "execution_count": 5,
   "metadata": {},
   "outputs": [
    {
     "data": {
      "text/plain": [
       "{<BaseInterval.T1: Timedelta('0 days 00:01:00')>: [Interval('2022-04-13 13:42:00', '2022-05-13 13:15:00', closed='both')],\n",
       " <BaseInterval.T2: Timedelta('0 days 00:02:00')>: [Interval('2022-03-31 13:42:00', '2022-05-13 13:14:00', closed='both')],\n",
       " <BaseInterval.T5: Timedelta('0 days 00:05:00')>: [Interval('2022-03-14 13:45:00', '2022-05-13 13:15:00', closed='both')],\n",
       " <BaseInterval.H1: Timedelta('0 days 01:00:00')>: [],\n",
       " <BaseInterval.D1: Timedelta('1 days 00:00:00')>: [Interval('1986-03-13', '2022-05-12', closed='both')]}"
      ]
     },
     "execution_count": 5,
     "metadata": {},
     "output_type": "execute_result"
    }
   ],
   "source": [
    "# might take a little while\n",
    "prices.request_all_prices()"
   ]
  },
  {
   "cell_type": "markdown",
   "metadata": {},
   "source": [
    "Notice that no prices are stored for the H1 interval. This is because prices include an equity listed on the New York Stock Exchange and one listed on the London Stock Exchange. The opening times of these exchanges are such that sessions often overlap although the indices at H1 are not aligned. Consequently, it's not possible to evaluate common hourly indices (at least not using H1 data).\n",
    "\n",
    "The rest of this subsection demonstrates some under-the-bonnet behaviour that can be safely skipped - move onto [`prices_for_symbols`](#prices_for_symbols) if you're not interested.\n",
    "\n",
    "Srictly speaking, valid hourly data will be available for any session where only one of these two exchanges is open, or when one or both have irregular opening hours such that they do not overlap (or align if they do). If intraday prices are requested for just such a session then a request for hourly data will be sent to the provider if intraday prices for that session are not available at an interval smaller than one hour."
   ]
  },
  {
   "cell_type": "code",
   "execution_count": 6,
   "metadata": {},
   "outputs": [
    {
     "data": {
      "text/plain": [
       "Timestamp('2020-08-31 00:00:00')"
      ]
     },
     "execution_count": 6,
     "metadata": {},
     "output_type": "execute_result"
    }
   ],
   "source": [
    "xnys_sessions = xnys.sessions_in_range(H1_start, H1_end)\n",
    "xlon_sessions = xlon.sessions_in_range(H1_start, H1_end)\n",
    "session = helpers.to_tz_naive(xnys_sessions.difference(xlon_sessions))[0]\n",
    "session  # for reference"
   ]
  },
  {
   "cell_type": "code",
   "execution_count": 7,
   "metadata": {},
   "outputs": [
    {
     "data": {
      "text/html": [
       "<div>\n",
       "<style scoped>\n",
       "    .dataframe tbody tr th:only-of-type {\n",
       "        vertical-align: middle;\n",
       "    }\n",
       "\n",
       "    .dataframe tbody tr th {\n",
       "        vertical-align: top;\n",
       "    }\n",
       "\n",
       "    .dataframe thead tr th {\n",
       "        text-align: left;\n",
       "    }\n",
       "</style>\n",
       "<table border=\"1\" class=\"dataframe\">\n",
       "  <thead>\n",
       "    <tr>\n",
       "      <th>symbol</th>\n",
       "      <th colspan=\"5\" halign=\"left\">9988.HK</th>\n",
       "      <th colspan=\"5\" halign=\"left\">AZN.L</th>\n",
       "      <th colspan=\"5\" halign=\"left\">MSFT</th>\n",
       "    </tr>\n",
       "    <tr>\n",
       "      <th></th>\n",
       "      <th>close</th>\n",
       "      <th>high</th>\n",
       "      <th>low</th>\n",
       "      <th>open</th>\n",
       "      <th>volume</th>\n",
       "      <th>close</th>\n",
       "      <th>high</th>\n",
       "      <th>low</th>\n",
       "      <th>open</th>\n",
       "      <th>volume</th>\n",
       "      <th>close</th>\n",
       "      <th>high</th>\n",
       "      <th>low</th>\n",
       "      <th>open</th>\n",
       "      <th>volume</th>\n",
       "    </tr>\n",
       "  </thead>\n",
       "  <tbody>\n",
       "    <tr>\n",
       "      <th>[2020-08-31 09:30:00, 2020-08-31 10:30:00)</th>\n",
       "      <td>NaN</td>\n",
       "      <td>NaN</td>\n",
       "      <td>NaN</td>\n",
       "      <td>NaN</td>\n",
       "      <td>NaN</td>\n",
       "      <td>NaN</td>\n",
       "      <td>NaN</td>\n",
       "      <td>NaN</td>\n",
       "      <td>NaN</td>\n",
       "      <td>NaN</td>\n",
       "      <td>226.350006</td>\n",
       "      <td>228.699997</td>\n",
       "      <td>226.169998</td>\n",
       "      <td>227.149994</td>\n",
       "      <td>7803484</td>\n",
       "    </tr>\n",
       "    <tr>\n",
       "      <th>[2020-08-31 10:30:00, 2020-08-31 11:30:00)</th>\n",
       "      <td>NaN</td>\n",
       "      <td>NaN</td>\n",
       "      <td>NaN</td>\n",
       "      <td>NaN</td>\n",
       "      <td>NaN</td>\n",
       "      <td>NaN</td>\n",
       "      <td>NaN</td>\n",
       "      <td>NaN</td>\n",
       "      <td>NaN</td>\n",
       "      <td>NaN</td>\n",
       "      <td>224.936905</td>\n",
       "      <td>226.690002</td>\n",
       "      <td>224.580002</td>\n",
       "      <td>226.380005</td>\n",
       "      <td>4225311</td>\n",
       "    </tr>\n",
       "    <tr>\n",
       "      <th>[2020-08-31 11:30:00, 2020-08-31 12:30:00)</th>\n",
       "      <td>NaN</td>\n",
       "      <td>NaN</td>\n",
       "      <td>NaN</td>\n",
       "      <td>NaN</td>\n",
       "      <td>NaN</td>\n",
       "      <td>NaN</td>\n",
       "      <td>NaN</td>\n",
       "      <td>NaN</td>\n",
       "      <td>NaN</td>\n",
       "      <td>NaN</td>\n",
       "      <td>225.595001</td>\n",
       "      <td>225.899994</td>\n",
       "      <td>224.309998</td>\n",
       "      <td>224.925003</td>\n",
       "      <td>2408480</td>\n",
       "    </tr>\n",
       "    <tr>\n",
       "      <th>[2020-08-31 12:30:00, 2020-08-31 13:30:00)</th>\n",
       "      <td>NaN</td>\n",
       "      <td>NaN</td>\n",
       "      <td>NaN</td>\n",
       "      <td>NaN</td>\n",
       "      <td>NaN</td>\n",
       "      <td>NaN</td>\n",
       "      <td>NaN</td>\n",
       "      <td>NaN</td>\n",
       "      <td>NaN</td>\n",
       "      <td>NaN</td>\n",
       "      <td>225.249695</td>\n",
       "      <td>225.839996</td>\n",
       "      <td>225.190002</td>\n",
       "      <td>225.589996</td>\n",
       "      <td>1467267</td>\n",
       "    </tr>\n",
       "    <tr>\n",
       "      <th>[2020-08-31 13:30:00, 2020-08-31 14:30:00)</th>\n",
       "      <td>NaN</td>\n",
       "      <td>NaN</td>\n",
       "      <td>NaN</td>\n",
       "      <td>NaN</td>\n",
       "      <td>NaN</td>\n",
       "      <td>NaN</td>\n",
       "      <td>NaN</td>\n",
       "      <td>NaN</td>\n",
       "      <td>NaN</td>\n",
       "      <td>NaN</td>\n",
       "      <td>225.690002</td>\n",
       "      <td>225.929993</td>\n",
       "      <td>225.169998</td>\n",
       "      <td>225.256897</td>\n",
       "      <td>1968181</td>\n",
       "    </tr>\n",
       "    <tr>\n",
       "      <th>[2020-08-31 14:30:00, 2020-08-31 15:30:00)</th>\n",
       "      <td>NaN</td>\n",
       "      <td>NaN</td>\n",
       "      <td>NaN</td>\n",
       "      <td>NaN</td>\n",
       "      <td>NaN</td>\n",
       "      <td>NaN</td>\n",
       "      <td>NaN</td>\n",
       "      <td>NaN</td>\n",
       "      <td>NaN</td>\n",
       "      <td>NaN</td>\n",
       "      <td>225.764999</td>\n",
       "      <td>226.539993</td>\n",
       "      <td>225.449997</td>\n",
       "      <td>225.699997</td>\n",
       "      <td>2293104</td>\n",
       "    </tr>\n",
       "    <tr>\n",
       "      <th>[2020-08-31 15:30:00, 2020-08-31 16:30:00)</th>\n",
       "      <td>NaN</td>\n",
       "      <td>NaN</td>\n",
       "      <td>NaN</td>\n",
       "      <td>NaN</td>\n",
       "      <td>NaN</td>\n",
       "      <td>NaN</td>\n",
       "      <td>NaN</td>\n",
       "      <td>NaN</td>\n",
       "      <td>NaN</td>\n",
       "      <td>NaN</td>\n",
       "      <td>225.059998</td>\n",
       "      <td>226.850006</td>\n",
       "      <td>225.000000</td>\n",
       "      <td>225.759995</td>\n",
       "      <td>3177857</td>\n",
       "    </tr>\n",
       "  </tbody>\n",
       "</table>\n",
       "</div>"
      ],
      "text/plain": [
       "symbol                                     9988.HK                      AZN.L  \\\n",
       "                                             close high low open volume close   \n",
       "[2020-08-31 09:30:00, 2020-08-31 10:30:00)     NaN  NaN NaN  NaN    NaN   NaN   \n",
       "[2020-08-31 10:30:00, 2020-08-31 11:30:00)     NaN  NaN NaN  NaN    NaN   NaN   \n",
       "[2020-08-31 11:30:00, 2020-08-31 12:30:00)     NaN  NaN NaN  NaN    NaN   NaN   \n",
       "[2020-08-31 12:30:00, 2020-08-31 13:30:00)     NaN  NaN NaN  NaN    NaN   NaN   \n",
       "[2020-08-31 13:30:00, 2020-08-31 14:30:00)     NaN  NaN NaN  NaN    NaN   NaN   \n",
       "[2020-08-31 14:30:00, 2020-08-31 15:30:00)     NaN  NaN NaN  NaN    NaN   NaN   \n",
       "[2020-08-31 15:30:00, 2020-08-31 16:30:00)     NaN  NaN NaN  NaN    NaN   NaN   \n",
       "\n",
       "symbol                                                                 MSFT  \\\n",
       "                                           high low open volume       close   \n",
       "[2020-08-31 09:30:00, 2020-08-31 10:30:00)  NaN NaN  NaN    NaN  226.350006   \n",
       "[2020-08-31 10:30:00, 2020-08-31 11:30:00)  NaN NaN  NaN    NaN  224.936905   \n",
       "[2020-08-31 11:30:00, 2020-08-31 12:30:00)  NaN NaN  NaN    NaN  225.595001   \n",
       "[2020-08-31 12:30:00, 2020-08-31 13:30:00)  NaN NaN  NaN    NaN  225.249695   \n",
       "[2020-08-31 13:30:00, 2020-08-31 14:30:00)  NaN NaN  NaN    NaN  225.690002   \n",
       "[2020-08-31 14:30:00, 2020-08-31 15:30:00)  NaN NaN  NaN    NaN  225.764999   \n",
       "[2020-08-31 15:30:00, 2020-08-31 16:30:00)  NaN NaN  NaN    NaN  225.059998   \n",
       "\n",
       "symbol                                                              \\\n",
       "                                                  high         low   \n",
       "[2020-08-31 09:30:00, 2020-08-31 10:30:00)  228.699997  226.169998   \n",
       "[2020-08-31 10:30:00, 2020-08-31 11:30:00)  226.690002  224.580002   \n",
       "[2020-08-31 11:30:00, 2020-08-31 12:30:00)  225.899994  224.309998   \n",
       "[2020-08-31 12:30:00, 2020-08-31 13:30:00)  225.839996  225.190002   \n",
       "[2020-08-31 13:30:00, 2020-08-31 14:30:00)  225.929993  225.169998   \n",
       "[2020-08-31 14:30:00, 2020-08-31 15:30:00)  226.539993  225.449997   \n",
       "[2020-08-31 15:30:00, 2020-08-31 16:30:00)  226.850006  225.000000   \n",
       "\n",
       "symbol                                                           \n",
       "                                                  open   volume  \n",
       "[2020-08-31 09:30:00, 2020-08-31 10:30:00)  227.149994  7803484  \n",
       "[2020-08-31 10:30:00, 2020-08-31 11:30:00)  226.380005  4225311  \n",
       "[2020-08-31 11:30:00, 2020-08-31 12:30:00)  224.925003  2408480  \n",
       "[2020-08-31 12:30:00, 2020-08-31 13:30:00)  225.589996  1467267  \n",
       "[2020-08-31 13:30:00, 2020-08-31 14:30:00)  225.256897  1968181  \n",
       "[2020-08-31 14:30:00, 2020-08-31 15:30:00)  225.699997  2293104  \n",
       "[2020-08-31 15:30:00, 2020-08-31 16:30:00)  225.759995  3177857  "
      ]
     },
     "execution_count": 7,
     "metadata": {},
     "output_type": "execute_result"
    }
   ],
   "source": [
    "prices.get(start=session, end=session)"
   ]
  },
  {
   "cell_type": "markdown",
   "metadata": {},
   "source": [
    "The following internal attribute returns the dictionary that expresses the locally stored data. It shows that a little H1 data is indeed now stored locally."
   ]
  },
  {
   "cell_type": "code",
   "execution_count": 8,
   "metadata": {},
   "outputs": [
    {
     "data": {
      "text/plain": [
       "{<BaseInterval.T1: Timedelta('0 days 00:01:00')>: [Interval('2022-04-13 13:42:00', '2022-05-13 13:15:00', closed='both')],\n",
       " <BaseInterval.T2: Timedelta('0 days 00:02:00')>: [Interval('2022-03-31 13:42:00', '2022-05-13 13:14:00', closed='both')],\n",
       " <BaseInterval.T5: Timedelta('0 days 00:05:00')>: [Interval('2022-03-14 13:45:00', '2022-05-13 13:15:00', closed='both')],\n",
       " <BaseInterval.H1: Timedelta('0 days 01:00:00')>: [Interval('2020-08-31 13:30:00', '2020-08-31 20:30:00', closed='both')],\n",
       " <BaseInterval.D1: Timedelta('1 days 00:00:00')>: [Interval('1986-03-13', '2022-05-12', closed='both')]}"
      ]
     },
     "execution_count": 8,
     "metadata": {},
     "output_type": "execute_result"
    }
   ],
   "source": [
    "prices._pdata_ranges"
   ]
  },
  {
   "cell_type": "markdown",
   "metadata": {},
   "source": [
    "## `prices_for_symbols`\n",
    "`prices_for_symbols` returns an instance of the Prices class for a specified subset of symbols. The advantage of using this method, as opposed to simply creating a new instance for the symbols, is that all previously requested data will be copied over (requests to the data provider for previously requested data will not be repeated)."
   ]
  },
  {
   "cell_type": "code",
   "execution_count": 9,
   "metadata": {},
   "outputs": [],
   "source": [
    "new_prices = prices.prices_for_symbols(\"MSFT, 9988.HK\")"
   ]
  },
  {
   "cell_type": "code",
   "execution_count": 10,
   "metadata": {},
   "outputs": [
    {
     "data": {
      "text/plain": [
       "['MSFT', '9988.HK']"
      ]
     },
     "execution_count": 10,
     "metadata": {},
     "output_type": "execute_result"
    }
   ],
   "source": [
    "new_prices.symbols"
   ]
  },
  {
   "cell_type": "markdown",
   "metadata": {},
   "source": [
    "A little dig into the internals shows that the locally stored T5 data was copied over."
   ]
  },
  {
   "cell_type": "code",
   "execution_count": 11,
   "metadata": {},
   "outputs": [
    {
     "data": {
      "text/html": [
       "<div>\n",
       "<style scoped>\n",
       "    .dataframe tbody tr th:only-of-type {\n",
       "        vertical-align: middle;\n",
       "    }\n",
       "\n",
       "    .dataframe tbody tr th {\n",
       "        vertical-align: top;\n",
       "    }\n",
       "\n",
       "    .dataframe thead tr th {\n",
       "        text-align: left;\n",
       "    }\n",
       "</style>\n",
       "<table border=\"1\" class=\"dataframe\">\n",
       "  <thead>\n",
       "    <tr>\n",
       "      <th>symbol</th>\n",
       "      <th colspan=\"5\" halign=\"left\">MSFT</th>\n",
       "      <th colspan=\"5\" halign=\"left\">9988.HK</th>\n",
       "    </tr>\n",
       "    <tr>\n",
       "      <th></th>\n",
       "      <th>open</th>\n",
       "      <th>high</th>\n",
       "      <th>low</th>\n",
       "      <th>close</th>\n",
       "      <th>volume</th>\n",
       "      <th>open</th>\n",
       "      <th>high</th>\n",
       "      <th>low</th>\n",
       "      <th>close</th>\n",
       "      <th>volume</th>\n",
       "    </tr>\n",
       "  </thead>\n",
       "  <tbody>\n",
       "    <tr>\n",
       "      <th>[2022-03-14 13:45:00, 2022-03-14 13:50:00)</th>\n",
       "      <td>284.269989</td>\n",
       "      <td>284.329987</td>\n",
       "      <td>282.480011</td>\n",
       "      <td>283.109985</td>\n",
       "      <td>593177.0</td>\n",
       "      <td>NaN</td>\n",
       "      <td>NaN</td>\n",
       "      <td>NaN</td>\n",
       "      <td>NaN</td>\n",
       "      <td>NaN</td>\n",
       "    </tr>\n",
       "    <tr>\n",
       "      <th>[2022-03-14 13:50:00, 2022-03-14 13:55:00)</th>\n",
       "      <td>283.019989</td>\n",
       "      <td>283.699005</td>\n",
       "      <td>282.470001</td>\n",
       "      <td>283.109985</td>\n",
       "      <td>367264.0</td>\n",
       "      <td>NaN</td>\n",
       "      <td>NaN</td>\n",
       "      <td>NaN</td>\n",
       "      <td>NaN</td>\n",
       "      <td>NaN</td>\n",
       "    </tr>\n",
       "    <tr>\n",
       "      <th>[2022-03-14 13:55:00, 2022-03-14 14:00:00)</th>\n",
       "      <td>283.089996</td>\n",
       "      <td>283.929901</td>\n",
       "      <td>282.600006</td>\n",
       "      <td>283.035004</td>\n",
       "      <td>565450.0</td>\n",
       "      <td>NaN</td>\n",
       "      <td>NaN</td>\n",
       "      <td>NaN</td>\n",
       "      <td>NaN</td>\n",
       "      <td>NaN</td>\n",
       "    </tr>\n",
       "    <tr>\n",
       "      <th>[2022-03-14 14:00:00, 2022-03-14 14:05:00)</th>\n",
       "      <td>283.029999</td>\n",
       "      <td>283.565002</td>\n",
       "      <td>282.000000</td>\n",
       "      <td>282.659912</td>\n",
       "      <td>411206.0</td>\n",
       "      <td>NaN</td>\n",
       "      <td>NaN</td>\n",
       "      <td>NaN</td>\n",
       "      <td>NaN</td>\n",
       "      <td>NaN</td>\n",
       "    </tr>\n",
       "    <tr>\n",
       "      <th>[2022-03-14 14:05:00, 2022-03-14 14:10:00)</th>\n",
       "      <td>282.660004</td>\n",
       "      <td>284.209900</td>\n",
       "      <td>282.500000</td>\n",
       "      <td>284.167603</td>\n",
       "      <td>273435.0</td>\n",
       "      <td>NaN</td>\n",
       "      <td>NaN</td>\n",
       "      <td>NaN</td>\n",
       "      <td>NaN</td>\n",
       "      <td>NaN</td>\n",
       "    </tr>\n",
       "    <tr>\n",
       "      <th>...</th>\n",
       "      <td>...</td>\n",
       "      <td>...</td>\n",
       "      <td>...</td>\n",
       "      <td>...</td>\n",
       "      <td>...</td>\n",
       "      <td>...</td>\n",
       "      <td>...</td>\n",
       "      <td>...</td>\n",
       "      <td>...</td>\n",
       "      <td>...</td>\n",
       "    </tr>\n",
       "    <tr>\n",
       "      <th>[2022-05-13 07:50:00, 2022-05-13 07:55:00)</th>\n",
       "      <td>NaN</td>\n",
       "      <td>NaN</td>\n",
       "      <td>NaN</td>\n",
       "      <td>NaN</td>\n",
       "      <td>NaN</td>\n",
       "      <td>82.449997</td>\n",
       "      <td>82.449997</td>\n",
       "      <td>82.349998</td>\n",
       "      <td>82.400002</td>\n",
       "      <td>1091340.0</td>\n",
       "    </tr>\n",
       "    <tr>\n",
       "      <th>[2022-05-13 07:55:00, 2022-05-13 08:00:00)</th>\n",
       "      <td>NaN</td>\n",
       "      <td>NaN</td>\n",
       "      <td>NaN</td>\n",
       "      <td>NaN</td>\n",
       "      <td>NaN</td>\n",
       "      <td>82.349998</td>\n",
       "      <td>82.500000</td>\n",
       "      <td>80.000000</td>\n",
       "      <td>82.199997</td>\n",
       "      <td>1590700.0</td>\n",
       "    </tr>\n",
       "    <tr>\n",
       "      <th>[2022-05-13 13:30:00, 2022-05-13 13:35:00)</th>\n",
       "      <td>257.440002</td>\n",
       "      <td>258.709900</td>\n",
       "      <td>255.699997</td>\n",
       "      <td>255.710007</td>\n",
       "      <td>2388245.0</td>\n",
       "      <td>NaN</td>\n",
       "      <td>NaN</td>\n",
       "      <td>NaN</td>\n",
       "      <td>NaN</td>\n",
       "      <td>NaN</td>\n",
       "    </tr>\n",
       "    <tr>\n",
       "      <th>[2022-05-13 13:35:00, 2022-05-13 13:40:00)</th>\n",
       "      <td>255.755005</td>\n",
       "      <td>257.380005</td>\n",
       "      <td>255.350006</td>\n",
       "      <td>256.839996</td>\n",
       "      <td>738217.0</td>\n",
       "      <td>NaN</td>\n",
       "      <td>NaN</td>\n",
       "      <td>NaN</td>\n",
       "      <td>NaN</td>\n",
       "      <td>NaN</td>\n",
       "    </tr>\n",
       "    <tr>\n",
       "      <th>[2022-05-13 13:40:00, 2022-05-13 13:45:00)</th>\n",
       "      <td>256.839996</td>\n",
       "      <td>256.839996</td>\n",
       "      <td>256.839996</td>\n",
       "      <td>256.839996</td>\n",
       "      <td>0.0</td>\n",
       "      <td>NaN</td>\n",
       "      <td>NaN</td>\n",
       "      <td>NaN</td>\n",
       "      <td>NaN</td>\n",
       "      <td>NaN</td>\n",
       "    </tr>\n",
       "  </tbody>\n",
       "</table>\n",
       "<p>5928 rows × 10 columns</p>\n",
       "</div>"
      ],
      "text/plain": [
       "symbol                                            MSFT              \\\n",
       "                                                  open        high   \n",
       "[2022-03-14 13:45:00, 2022-03-14 13:50:00)  284.269989  284.329987   \n",
       "[2022-03-14 13:50:00, 2022-03-14 13:55:00)  283.019989  283.699005   \n",
       "[2022-03-14 13:55:00, 2022-03-14 14:00:00)  283.089996  283.929901   \n",
       "[2022-03-14 14:00:00, 2022-03-14 14:05:00)  283.029999  283.565002   \n",
       "[2022-03-14 14:05:00, 2022-03-14 14:10:00)  282.660004  284.209900   \n",
       "...                                                ...         ...   \n",
       "[2022-05-13 07:50:00, 2022-05-13 07:55:00)         NaN         NaN   \n",
       "[2022-05-13 07:55:00, 2022-05-13 08:00:00)         NaN         NaN   \n",
       "[2022-05-13 13:30:00, 2022-05-13 13:35:00)  257.440002  258.709900   \n",
       "[2022-05-13 13:35:00, 2022-05-13 13:40:00)  255.755005  257.380005   \n",
       "[2022-05-13 13:40:00, 2022-05-13 13:45:00)  256.839996  256.839996   \n",
       "\n",
       "symbol                                                                         \\\n",
       "                                                   low       close     volume   \n",
       "[2022-03-14 13:45:00, 2022-03-14 13:50:00)  282.480011  283.109985   593177.0   \n",
       "[2022-03-14 13:50:00, 2022-03-14 13:55:00)  282.470001  283.109985   367264.0   \n",
       "[2022-03-14 13:55:00, 2022-03-14 14:00:00)  282.600006  283.035004   565450.0   \n",
       "[2022-03-14 14:00:00, 2022-03-14 14:05:00)  282.000000  282.659912   411206.0   \n",
       "[2022-03-14 14:05:00, 2022-03-14 14:10:00)  282.500000  284.167603   273435.0   \n",
       "...                                                ...         ...        ...   \n",
       "[2022-05-13 07:50:00, 2022-05-13 07:55:00)         NaN         NaN        NaN   \n",
       "[2022-05-13 07:55:00, 2022-05-13 08:00:00)         NaN         NaN        NaN   \n",
       "[2022-05-13 13:30:00, 2022-05-13 13:35:00)  255.699997  255.710007  2388245.0   \n",
       "[2022-05-13 13:35:00, 2022-05-13 13:40:00)  255.350006  256.839996   738217.0   \n",
       "[2022-05-13 13:40:00, 2022-05-13 13:45:00)  256.839996  256.839996        0.0   \n",
       "\n",
       "symbol                                        9988.HK                        \\\n",
       "                                                 open       high        low   \n",
       "[2022-03-14 13:45:00, 2022-03-14 13:50:00)        NaN        NaN        NaN   \n",
       "[2022-03-14 13:50:00, 2022-03-14 13:55:00)        NaN        NaN        NaN   \n",
       "[2022-03-14 13:55:00, 2022-03-14 14:00:00)        NaN        NaN        NaN   \n",
       "[2022-03-14 14:00:00, 2022-03-14 14:05:00)        NaN        NaN        NaN   \n",
       "[2022-03-14 14:05:00, 2022-03-14 14:10:00)        NaN        NaN        NaN   \n",
       "...                                               ...        ...        ...   \n",
       "[2022-05-13 07:50:00, 2022-05-13 07:55:00)  82.449997  82.449997  82.349998   \n",
       "[2022-05-13 07:55:00, 2022-05-13 08:00:00)  82.349998  82.500000  80.000000   \n",
       "[2022-05-13 13:30:00, 2022-05-13 13:35:00)        NaN        NaN        NaN   \n",
       "[2022-05-13 13:35:00, 2022-05-13 13:40:00)        NaN        NaN        NaN   \n",
       "[2022-05-13 13:40:00, 2022-05-13 13:45:00)        NaN        NaN        NaN   \n",
       "\n",
       "symbol                                                            \n",
       "                                                close     volume  \n",
       "[2022-03-14 13:45:00, 2022-03-14 13:50:00)        NaN        NaN  \n",
       "[2022-03-14 13:50:00, 2022-03-14 13:55:00)        NaN        NaN  \n",
       "[2022-03-14 13:55:00, 2022-03-14 14:00:00)        NaN        NaN  \n",
       "[2022-03-14 14:00:00, 2022-03-14 14:05:00)        NaN        NaN  \n",
       "[2022-03-14 14:05:00, 2022-03-14 14:10:00)        NaN        NaN  \n",
       "...                                               ...        ...  \n",
       "[2022-05-13 07:50:00, 2022-05-13 07:55:00)  82.400002  1091340.0  \n",
       "[2022-05-13 07:55:00, 2022-05-13 08:00:00)  82.199997  1590700.0  \n",
       "[2022-05-13 13:30:00, 2022-05-13 13:35:00)        NaN        NaN  \n",
       "[2022-05-13 13:35:00, 2022-05-13 13:40:00)        NaN        NaN  \n",
       "[2022-05-13 13:40:00, 2022-05-13 13:45:00)        NaN        NaN  \n",
       "\n",
       "[5928 rows x 10 columns]"
      ]
     },
     "execution_count": 11,
     "metadata": {},
     "output_type": "execute_result"
    }
   ],
   "source": [
    "new_prices._pdata[new_prices.bis.T5]._table"
   ]
  }
 ],
 "metadata": {
  "kernelspec": {
   "display_name": "mkt_prices 3.8.2",
   "language": "python",
   "name": "mkt_prices"
  },
  "language_info": {
   "codemirror_mode": {
    "name": "ipython",
    "version": 3
   },
   "file_extension": ".py",
   "mimetype": "text/x-python",
   "name": "python",
   "nbconvert_exporter": "python",
   "pygments_lexer": "ipython3",
   "version": "3.8.2"
  },
  "widgets": {
   "application/vnd.jupyter.widget-state+json": {
    "state": {},
    "version_major": 2,
    "version_minor": 0
   }
  }
 },
 "nbformat": 4,
 "nbformat_minor": 4
}
